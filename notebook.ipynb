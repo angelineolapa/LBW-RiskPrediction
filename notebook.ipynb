{
 "cells": [
  {
   "cell_type": "markdown",
   "id": "c9ae394d-3727-42c1-bf4c-f7c6d7ecc19e",
   "metadata": {},
   "source": [
    "# ML Zoomcamp Mid-Term Project - Low Birth Weight Risk"
   ]
  },
  {
   "cell_type": "markdown",
   "id": "d07a4e78-c54f-4aff-a42f-9bdc43caa14b",
   "metadata": {},
   "source": [
    "## Data Preparation"
   ]
  },
  {
   "cell_type": "code",
   "execution_count": 1,
   "id": "1b824c57-b5a6-48d5-a67f-2af2e26c63d2",
   "metadata": {},
   "outputs": [],
   "source": [
    "#Import Libraries\n",
    "import pandas as pd\n",
    "import numpy as np\n",
    "\n",
    "import seaborn as sns\n",
    "from matplotlib import pyplot as plt\n",
    "\n",
    "from IPython.display import display\n",
    "from tqdm.auto import tqdm\n",
    "\n",
    "import statsmodels.api as sm\n",
    "\n",
    "from sklearn.model_selection import train_test_split\n",
    "from sklearn.metrics import mutual_info_score\n",
    "from sklearn.feature_extraction import DictVectorizer\n",
    "from sklearn.linear_model import LogisticRegression\n",
    "from sklearn.metrics import accuracy_score\n",
    "from sklearn.metrics import precision_score\n",
    "from sklearn.metrics import recall_score\n",
    "from sklearn.metrics import roc_auc_score\n",
    "from sklearn.metrics import average_precision_score\n",
    "from sklearn.metrics import roc_curve\n",
    "from sklearn.metrics import precision_recall_curve\n",
    "from sklearn.model_selection import StratifiedKFold\n",
    "from sklearn.tree import export_text\n",
    "from sklearn.tree import DecisionTreeClassifier\n",
    "from sklearn.ensemble import RandomForestClassifier\n",
    "\n",
    "from imblearn.over_sampling import SMOTE\n",
    "\n",
    "import xgboost as xgb\n",
    "import pickle"
   ]
  },
  {
   "cell_type": "code",
   "execution_count": 2,
   "id": "1bb2b190-59a9-459e-b160-76bc9838c46d",
   "metadata": {},
   "outputs": [
    {
     "name": "stdout",
     "output_type": "stream",
     "text": [
      "All variables: Index(['cod_dpto', 'cod_munic', 'areanac', 'sit_parto', 'otro_sit', 'sexo',\n",
      "       'peso_nac', 'talla_nac', 'ano', 'mes', 'aten_par', 't_ges', 'numconsul',\n",
      "       'tipo_parto', 'mul_parto', 'apgar1', 'apgar2', 'idhemoclas',\n",
      "       'idfactorrh', 'idpertet', 'edad_madre', 'est_civm', 'niv_edum',\n",
      "       'ultcurmad', 'codpres', 'codptore', 'codmunre', 'area_res', 'n_hijosv',\n",
      "       'fecha_nacm', 'n_emb', 'seg_social', 'idclasadmi', 'edad_padre',\n",
      "       'niv_edup', 'ultcurpad', 'profesion'],\n",
      "      dtype='object')\n"
     ]
    }
   ],
   "source": [
    "#Import data\n",
    "births_df = pd.read_stata(\"datasets/nac2020.dta\")\n",
    "\n",
    "#Adjust variable names\n",
    "births_df.columns = births_df.columns.str.lower().str.replace(' ', '_')\n",
    "\n",
    "print(\"All variables:\", births_df.columns)"
   ]
  },
  {
   "cell_type": "code",
   "execution_count": 3,
   "id": "9a9a5c63-995d-41ee-a5b6-f1423bf9ffc6",
   "metadata": {},
   "outputs": [
    {
     "name": "stdout",
     "output_type": "stream",
     "text": [
      "<class 'pandas.core.frame.DataFrame'>\n",
      "Int64Index: 629402 entries, 0 to 629401\n",
      "Data columns (total 13 columns):\n",
      " #   Column      Non-Null Count   Dtype  \n",
      "---  ------      --------------   -----  \n",
      " 0   mul_parto   629402 non-null  object \n",
      " 1   t_ges       629402 non-null  float64\n",
      " 2   numconsul   629402 non-null  float64\n",
      " 3   edad_madre  629402 non-null  float64\n",
      " 4   est_civm    629402 non-null  object \n",
      " 5   niv_edum    629402 non-null  object \n",
      " 6   n_hijosv    629402 non-null  float64\n",
      " 7   n_emb       629402 non-null  float64\n",
      " 8   seg_social  629402 non-null  object \n",
      " 9   area_res    629402 non-null  object \n",
      " 10  edad_padre  629402 non-null  float64\n",
      " 11  niv_edup    629402 non-null  object \n",
      " 12  peso_nac    629402 non-null  float64\n",
      "dtypes: float64(7), object(6)\n",
      "memory usage: 67.2+ MB\n"
     ]
    }
   ],
   "source": [
    "#Variables of interest following recommendations in articles reviewed and availability before birth\n",
    "birth_vars = [\"mul_parto\", \"t_ges\", \"numconsul\"]\n",
    "mom_vars = [\"edad_madre\", \"est_civm\", \"niv_edum\", \"n_hijosv\", \"n_emb\", \"seg_social\", \"area_res\"]\n",
    "dad_vars = [\"edad_padre\", \"niv_edup\"]\n",
    "selected_vars = birth_vars + mom_vars + dad_vars + [\"peso_nac\"]\n",
    "\n",
    "#Filter dataset\n",
    "births_df = births_df[selected_vars]\n",
    "births_df.info()"
   ]
  },
  {
   "cell_type": "markdown",
   "id": "708076b3-8e75-4dac-b3f2-246353b8343b",
   "metadata": {},
   "source": [
    "### Inclusion Criteria"
   ]
  },
  {
   "cell_type": "code",
   "execution_count": 4,
   "id": "b5e06d50-9227-40ce-adba-49c3821bbd3b",
   "metadata": {},
   "outputs": [
    {
     "name": "stdout",
     "output_type": "stream",
     "text": [
      "peso_nac: 8417\n",
      "mul_parto: 12\n",
      "edad_madre: 53\n",
      "est_civm: 14116\n",
      "niv_edum: 10244\n",
      "n_hijosv: 6\n",
      "n_emb: 5\n",
      "edad_padre: 3895\n",
      "area_res: 7\n",
      "niv_edup: 35684\n",
      "\n",
      "peso_nac: 0\n",
      "mul_parto: 1\n",
      "edad_madre: 1\n",
      "est_civm: 1290\n",
      "niv_edum: 1908\n",
      "n_hijosv: 1\n",
      "n_emb: 2\n",
      "edad_padre: 572\n",
      "area_res: 1\n",
      "niv_edup: 6029\n",
      "\n",
      "Missing values in all records: 72439\n",
      "Missing values in low weight newborn records: 9805\n"
     ]
    }
   ],
   "source": [
    "#Only newborns for which all information is available\n",
    "\n",
    "no_area_res = births_df[births_df[\"area_res\"]==\"\"].index\n",
    "births_df.drop(labels = no_area_res, axis=0, inplace=True)\n",
    "\n",
    "#Explore missing values\n",
    "missing_val_vars = {\"peso_nac\":9.0, \"mul_parto\":\"9\", \"edad_madre\":99.0, \"est_civm\":\"9\",\n",
    "                   \"niv_edum\":\"99\", \"n_hijosv\":99.0, \"n_emb\":99.0, \"edad_padre\":999.0, \n",
    "                   \"area_res\":\"9\", \"niv_edup\":\"99\"}\n",
    "\n",
    "missing_val_count = 0\n",
    "missing_val_df = births_df.copy()\n",
    "for key in missing_val_vars.keys():\n",
    "    count = missing_val_df[missing_val_df[key]==missing_val_vars[key]][key].count()\n",
    "    missing_val_count = missing_val_count + count\n",
    "    missing_val_df = missing_val_df[missing_val_df[key]!=missing_val_vars[key]]\n",
    "    print(f\"{key}:\", count)\n",
    "\n",
    "print(\"\")\n",
    "\n",
    "#Missing info in low weight newborn records\n",
    "lw_births_df = births_df[births_df[\"peso_nac\"]<=4]\n",
    "missing_val_count_low = 0\n",
    "for key in missing_val_vars.keys():    \n",
    "    count = lw_births_df[lw_births_df[key]==missing_val_vars[key]][key].count()\n",
    "    missing_val_count_low = missing_val_count_low + count\n",
    "    lw_birth_df = lw_births_df[lw_births_df[key]!=missing_val_vars[key]]\n",
    "    print(f\"{key}:\", count)\n",
    "\n",
    "print(\"\")\n",
    "\n",
    "print(\"Missing values in all records:\", missing_val_count)\n",
    "print(\"Missing values in low weight newborn records:\", missing_val_count_low)"
   ]
  },
  {
   "cell_type": "code",
   "execution_count": 5,
   "id": "6b6cdfdb-8fb0-4005-ba36-464aa592b578",
   "metadata": {},
   "outputs": [
    {
     "name": "stdout",
     "output_type": "stream",
     "text": [
      "<class 'pandas.core.frame.DataFrame'>\n",
      "RangeIndex: 547174 entries, 0 to 547173\n",
      "Data columns (total 13 columns):\n",
      " #   Column      Non-Null Count   Dtype  \n",
      "---  ------      --------------   -----  \n",
      " 0   mul_parto   547174 non-null  object \n",
      " 1   t_ges       547174 non-null  float64\n",
      " 2   numconsul   547174 non-null  float64\n",
      " 3   edad_madre  547174 non-null  float64\n",
      " 4   est_civm    547174 non-null  object \n",
      " 5   niv_edum    547174 non-null  object \n",
      " 6   n_hijosv    547174 non-null  float64\n",
      " 7   n_emb       547174 non-null  float64\n",
      " 8   seg_social  547174 non-null  object \n",
      " 9   area_res    547174 non-null  object \n",
      " 10  edad_padre  547174 non-null  float64\n",
      " 11  niv_edup    547174 non-null  object \n",
      " 12  peso_nac    547174 non-null  float64\n",
      "dtypes: float64(7), object(6)\n",
      "memory usage: 54.3+ MB\n"
     ]
    }
   ],
   "source": [
    "#Dropping missing info\n",
    "for key in missing_val_vars.keys():\n",
    "    index_drop = births_df[births_df[key]==missing_val_vars[key]].index.to_list()\n",
    "    births_df.drop(labels=index_drop, axis=0, inplace=True)\n",
    "\n",
    "births_df.reset_index(inplace=True, drop=True)\n",
    "births_df.info()    "
   ]
  },
  {
   "cell_type": "code",
   "execution_count": 6,
   "id": "c5fb1a07-c769-4090-af87-e13c475d8c0f",
   "metadata": {},
   "outputs": [],
   "source": [
    "#Only single pregnancies\n",
    "births_df = births_df[births_df[\"mul_parto\"]==\"1\"]\n",
    "births_df.drop(\"mul_parto\", axis=1, inplace=True)"
   ]
  },
  {
   "cell_type": "code",
   "execution_count": 7,
   "id": "621da4ba-ac07-48a0-9474-44358ffc5f3d",
   "metadata": {},
   "outputs": [
    {
     "name": "stdout",
     "output_type": "stream",
     "text": [
      "<class 'pandas.core.frame.DataFrame'>\n",
      "Int64Index: 537582 entries, 0 to 547173\n",
      "Data columns (total 12 columns):\n",
      " #   Column      Non-Null Count   Dtype  \n",
      "---  ------      --------------   -----  \n",
      " 0   t_ges       537582 non-null  float64\n",
      " 1   numconsul   537582 non-null  float64\n",
      " 2   edad_madre  537582 non-null  float64\n",
      " 3   est_civm    537582 non-null  object \n",
      " 4   niv_edum    537582 non-null  object \n",
      " 5   n_hijosv    537582 non-null  float64\n",
      " 6   n_emb       537582 non-null  float64\n",
      " 7   seg_social  537582 non-null  object \n",
      " 8   area_res    537582 non-null  object \n",
      " 9   edad_padre  537582 non-null  float64\n",
      " 10  niv_edup    537582 non-null  object \n",
      " 11  peso_nac    537582 non-null  float64\n",
      "dtypes: float64(7), object(5)\n",
      "memory usage: 53.3+ MB\n"
     ]
    }
   ],
   "source": [
    "#Final variables list\n",
    "births_df.info()"
   ]
  },
  {
   "cell_type": "code",
   "execution_count": 8,
   "id": "c3aa1dc9-d5bb-4b69-91b2-3d3a357371f1",
   "metadata": {},
   "outputs": [],
   "source": [
    "#Classify final variable list in numeric and categorical\n",
    "\n",
    "#Numeric variables\n",
    "numeric_vars = [\"t_ges\", \"numconsul\", \"edad_madre\", \"n_hijosv\", \"n_emb\", \"edad_padre\"]\n",
    "\n",
    "#Categorical variables\n",
    "categorical_vars = [\"est_civm\", \"niv_edum\",\"seg_social\", \"area_res\", \"niv_edup\"]"
   ]
  },
  {
   "cell_type": "code",
   "execution_count": 9,
   "id": "e01e5b60-d646-40db-b081-6777b6783de7",
   "metadata": {},
   "outputs": [],
   "source": [
    "#Dictionary for variable names in English\n",
    "var_names = {\"edad_madre\":\"Age - mother\",\"est_civm\":\"Marital status - mother\", \n",
    "             \"niv_edum\":\"Education level - mother\",\"n_hijosv\":\"Living children - mother\",\n",
    "             \"n_emb\":\"Previous pregnancies - mother\", \n",
    "             \"seg_social\":\"Health Insurance Regime - mother\",\n",
    "             \"edad_padre\":\"Age - father\", \"niv_edup\":\"Education level - father\", \n",
    "             \"area_res\":\"Residential area - mother\", \"peso_nac\":\"Birth weight\",\n",
    "             \"numconsul\":\"Pre-natal medical visits\", \"t_ges\":\"Gestation Time\"}"
   ]
  },
  {
   "cell_type": "code",
   "execution_count": 10,
   "id": "2749f850-daa4-4756-88f0-57e625135cc7",
   "metadata": {},
   "outputs": [],
   "source": [
    "#Category Label Dictionaries\n",
    "est_civm_labels = {\"1\":\"Cohabiting - 2Y or more\", \"2\":\"Cohabiting - less than 2Y\", \"3\":\"Divorced\", \n",
    "                  \"4\":\"Widowed\", \"5\":\"Single\", \"6\":\"Married\"}\n",
    "niv_edu_labels = {\"01\":\"Preschool\", \"02\":\"Primary\", \"03\":\"Secondary\", \"04\":\"Secondary\", \n",
    "                  \"05\":\"Secondary\", \"06\":\"Non-University Higher\", \"07\":\"Non-University Higher\", \n",
    "                  \"08\":\"Non-University Higher\", \"09\":\"Undegraduate\",\"10\":\"Postgraduate\", \n",
    "                  \"11\":\"Postgraduate\", \"12\":\"Postgraduate\", \"13\":\"None\"}\n",
    "seg_social_labels = {\"1\":\"Contributory\", \"2\":\"Subsidized\", \"3\":\"Exception\", \"4\":\"Special\", \n",
    "                     \"5\":\"Non-insured\"}\n",
    "area_res_labels = {\"1\":\"Cabecera Municipal\", \"2\":\"Centro Poblado\", \"3\":\"Rural\"}"
   ]
  },
  {
   "cell_type": "code",
   "execution_count": 11,
   "id": "78dc7868-058a-4773-8940-4515bfe5766b",
   "metadata": {},
   "outputs": [],
   "source": [
    "#Apply Category Label Dictionaries\n",
    "births_df[\"est_civm\"] = births_df[\"est_civm\"].map(est_civm_labels)\n",
    "births_df[\"niv_edum\"] = births_df[\"niv_edum\"].map(niv_edu_labels)\n",
    "births_df[\"niv_edup\"] = births_df[\"niv_edup\"].map(niv_edu_labels)\n",
    "births_df[\"seg_social\"] = births_df[\"seg_social\"].map(seg_social_labels)\n",
    "births_df[\"area_res\"] = births_df[\"area_res\"].map(area_res_labels)"
   ]
  },
  {
   "cell_type": "code",
   "execution_count": 12,
   "id": "fb4ba2e7-71fa-451f-86f0-baaf6a9ba69f",
   "metadata": {},
   "outputs": [],
   "source": [
    "#Declare categorical variables as such\n",
    "for var in categorical_vars:\n",
    "    births_df[var] = births_df[var].astype(\"category\")"
   ]
  },
  {
   "cell_type": "markdown",
   "id": "9bccfb76-dcf2-474c-bcc3-0033724c4ad9",
   "metadata": {},
   "source": [
    "### Low Weight Identifier"
   ]
  },
  {
   "cell_type": "code",
   "execution_count": 13,
   "id": "1e09ce6e-e7e1-4b93-8768-084780cf1b65",
   "metadata": {
    "tags": []
   },
   "outputs": [],
   "source": [
    "def lbw_identifier(w):\n",
    "    if w<=4:\n",
    "        return 1\n",
    "    else:\n",
    "        return 0\n",
    "    \n",
    "births_df[\"lbw\"] = births_df[\"peso_nac\"].apply(lbw_identifier)"
   ]
  },
  {
   "cell_type": "code",
   "execution_count": 14,
   "id": "a0eec5cc-f123-4e8d-984a-d48f8df9a342",
   "metadata": {},
   "outputs": [
    {
     "data": {
      "text/plain": [
       "0    494601\n",
       "1     42981\n",
       "Name: lbw, dtype: int64"
      ]
     },
     "execution_count": 14,
     "metadata": {},
     "output_type": "execute_result"
    }
   ],
   "source": [
    "births_df[\"lbw\"].value_counts()"
   ]
  },
  {
   "cell_type": "code",
   "execution_count": 15,
   "id": "10b8cad5-c87b-4257-8248-2d975532f93f",
   "metadata": {},
   "outputs": [
    {
     "data": {
      "image/png": "[encoded data removed]",
      "text/plain": [
       "<Figure size 400x300 with 1 Axes>"
      ]
     },
     "metadata": {},
     "output_type": "display_data"
    }
   ],
   "source": [
    "#Verify whether that the data is imbalanced\n",
    "plt.figure(figsize=(4, 3))\n",
    "\n",
    "plt.hist(births_df[\"lbw\"])\n",
    "plt.ylabel('Frequency')\n",
    "plt.xlabel('Low birth weight at birth')\n",
    "plt.title('Incidence of low birth weight in newborns (2020)')\n",
    "\n",
    "plt.show()"
   ]
  },
  {
   "cell_type": "markdown",
   "id": "c40fd49f-5175-43c8-8925-cb085fce9fd7",
   "metadata": {},
   "source": [
    "### Train and Test Sets"
   ]
  },
  {
   "cell_type": "code",
   "execution_count": 16,
   "id": "cb32da4b-25a4-4ee9-9d59-cf26946b901a",
   "metadata": {},
   "outputs": [],
   "source": [
    "#Divide in train, validation and test sets\n",
    "#Stratified sampling will be using to account for imbalanced nature of the data\n",
    "df_train_full, df_test = train_test_split(births_df, test_size=0.2, random_state=1, \n",
    "                                          stratify=births_df.lbw)\n",
    "df_train, df_val = train_test_split(df_train_full, test_size=0.33, random_state=11, \n",
    "                                    stratify=df_train_full.lbw)\n",
    "\n",
    "#Reset index\n",
    "df_train.reset_index(drop=True, inplace=True) \n",
    "df_val.reset_index(drop=True, inplace=True) \n",
    "df_test.reset_index(drop=True, inplace=True) "
   ]
  },
  {
   "cell_type": "code",
   "execution_count": 17,
   "id": "c0903038-473e-43e1-886b-56902c02570b",
   "metadata": {},
   "outputs": [],
   "source": [
    "#Calculate y_train, y_val and y_test variable for all sets\n",
    "y_train = df_train.lbw.values\n",
    "y_val = df_val.lbw.values\n",
    "y_test = df_test.lbw.values\n",
    "\n",
    "df_train.drop(\"peso_nac\", axis=1, inplace=True)\n",
    "df_val.drop(\"peso_nac\", axis=1, inplace=True)\n",
    "df_test.drop(\"peso_nac\", axis=1, inplace=True)\n",
    "df_train.drop(\"lbw\", axis=1, inplace=True)\n",
    "df_val.drop(\"lbw\", axis=1, inplace=True)\n",
    "df_test.drop(\"lbw\", axis=1, inplace=True)"
   ]
  },
  {
   "cell_type": "markdown",
   "id": "6541e5e0-9950-4653-af17-6fb59317a2f2",
   "metadata": {},
   "source": [
    "## Exploratory Data Analysis"
   ]
  },
  {
   "cell_type": "markdown",
   "id": "b717167b-6993-49d8-8715-6a1aa2d660c1",
   "metadata": {},
   "source": [
    "### Dependant variable"
   ]
  },
  {
   "cell_type": "code",
   "execution_count": 18,
   "id": "2e33b7be-2a09-4fd6-b331-8fc5b74503a5",
   "metadata": {},
   "outputs": [
    {
     "data": {
      "image/png": "[encoded data removed]",
      "text/plain": [
       "<Figure size 400x300 with 1 Axes>"
      ]
     },
     "metadata": {},
     "output_type": "display_data"
    }
   ],
   "source": [
    "plt.figure(figsize=(4, 3))\n",
    "\n",
    "plt.hist(df_train_full[\"lbw\"])\n",
    "plt.ylabel('Frequency')\n",
    "plt.xlabel('Low birth weight at birth')\n",
    "plt.title('Incidence of low birth weight in newborns')\n",
    "\n",
    "plt.show()"
   ]
  },
  {
   "cell_type": "code",
   "execution_count": 19,
   "id": "52bf2379-96e5-45d2-86bc-1b92023bd09a",
   "metadata": {},
   "outputs": [
    {
     "data": {
      "text/plain": [
       "0.07995303035587643"
      ]
     },
     "execution_count": 19,
     "metadata": {},
     "output_type": "execute_result"
    }
   ],
   "source": [
    "#Percentage of confirmed low birth weight new borns after dropping missing info\n",
    "low_bw_rate = (df_train_full[df_train_full[\"peso_nac\"]<=4][\"peso_nac\"].count())/df_train_full[\"peso_nac\"].count()\n",
    "low_bw_rate"
   ]
  },
  {
   "cell_type": "markdown",
   "id": "d5b5a201-cad8-4afa-82ab-c96d672ebbac",
   "metadata": {},
   "source": [
    "### Features"
   ]
  },
  {
   "cell_type": "code",
   "execution_count": 20,
   "id": "d3ebb324-1dc8-41e4-8da2-4df912dda140",
   "metadata": {},
   "outputs": [
    {
     "data": {
      "text/html": [
       "<div>\n",
       "<style scoped>\n",
       "    .dataframe tbody tr th:only-of-type {\n",
       "        vertical-align: middle;\n",
       "    }\n",
       "\n",
       "    .dataframe tbody tr th {\n",
       "        vertical-align: top;\n",
       "    }\n",
       "\n",
       "    .dataframe thead th {\n",
       "        text-align: right;\n",
       "    }\n",
       "</style>\n",
       "<table border=\"1\" class=\"dataframe\">\n",
       "  <thead>\n",
       "    <tr style=\"text-align: right;\">\n",
       "      <th></th>\n",
       "      <th>t_ges</th>\n",
       "      <th>numconsul</th>\n",
       "      <th>edad_madre</th>\n",
       "      <th>n_hijosv</th>\n",
       "      <th>n_emb</th>\n",
       "      <th>edad_padre</th>\n",
       "      <th>peso_nac</th>\n",
       "      <th>lbw</th>\n",
       "    </tr>\n",
       "  </thead>\n",
       "  <tbody>\n",
       "    <tr>\n",
       "      <th>count</th>\n",
       "      <td>430065.000000</td>\n",
       "      <td>430065.000000</td>\n",
       "      <td>430065.000000</td>\n",
       "      <td>430065.000000</td>\n",
       "      <td>430065.000000</td>\n",
       "      <td>430065.000000</td>\n",
       "      <td>430065.000000</td>\n",
       "      <td>430065.000000</td>\n",
       "    </tr>\n",
       "    <tr>\n",
       "      <th>mean</th>\n",
       "      <td>3.799628</td>\n",
       "      <td>5.923951</td>\n",
       "      <td>3.781121</td>\n",
       "      <td>1.892616</td>\n",
       "      <td>2.077202</td>\n",
       "      <td>29.704603</td>\n",
       "      <td>5.767505</td>\n",
       "      <td>0.079953</td>\n",
       "    </tr>\n",
       "    <tr>\n",
       "      <th>std</th>\n",
       "      <td>0.418767</td>\n",
       "      <td>3.255292</td>\n",
       "      <td>1.312985</td>\n",
       "      <td>1.121044</td>\n",
       "      <td>1.276589</td>\n",
       "      <td>7.568099</td>\n",
       "      <td>1.019230</td>\n",
       "      <td>0.271221</td>\n",
       "    </tr>\n",
       "    <tr>\n",
       "      <th>min</th>\n",
       "      <td>1.000000</td>\n",
       "      <td>0.000000</td>\n",
       "      <td>1.000000</td>\n",
       "      <td>1.000000</td>\n",
       "      <td>1.000000</td>\n",
       "      <td>13.000000</td>\n",
       "      <td>1.000000</td>\n",
       "      <td>0.000000</td>\n",
       "    </tr>\n",
       "    <tr>\n",
       "      <th>25%</th>\n",
       "      <td>4.000000</td>\n",
       "      <td>4.000000</td>\n",
       "      <td>3.000000</td>\n",
       "      <td>1.000000</td>\n",
       "      <td>1.000000</td>\n",
       "      <td>24.000000</td>\n",
       "      <td>5.000000</td>\n",
       "      <td>0.000000</td>\n",
       "    </tr>\n",
       "    <tr>\n",
       "      <th>50%</th>\n",
       "      <td>4.000000</td>\n",
       "      <td>6.000000</td>\n",
       "      <td>4.000000</td>\n",
       "      <td>2.000000</td>\n",
       "      <td>2.000000</td>\n",
       "      <td>29.000000</td>\n",
       "      <td>6.000000</td>\n",
       "      <td>0.000000</td>\n",
       "    </tr>\n",
       "    <tr>\n",
       "      <th>75%</th>\n",
       "      <td>4.000000</td>\n",
       "      <td>8.000000</td>\n",
       "      <td>5.000000</td>\n",
       "      <td>2.000000</td>\n",
       "      <td>3.000000</td>\n",
       "      <td>34.000000</td>\n",
       "      <td>6.000000</td>\n",
       "      <td>0.000000</td>\n",
       "    </tr>\n",
       "    <tr>\n",
       "      <th>max</th>\n",
       "      <td>9.000000</td>\n",
       "      <td>99.000000</td>\n",
       "      <td>9.000000</td>\n",
       "      <td>17.000000</td>\n",
       "      <td>17.000000</td>\n",
       "      <td>84.000000</td>\n",
       "      <td>8.000000</td>\n",
       "      <td>1.000000</td>\n",
       "    </tr>\n",
       "  </tbody>\n",
       "</table>\n",
       "</div>"
      ],
      "text/plain": [
       "               t_ges      numconsul     edad_madre       n_hijosv  \\\n",
       "count  430065.000000  430065.000000  430065.000000  430065.000000   \n",
       "mean        3.799628       5.923951       3.781121       1.892616   \n",
       "std         0.418767       3.255292       1.312985       1.121044   \n",
       "min         1.000000       0.000000       1.000000       1.000000   \n",
       "25%         4.000000       4.000000       3.000000       1.000000   \n",
       "50%         4.000000       6.000000       4.000000       2.000000   \n",
       "75%         4.000000       8.000000       5.000000       2.000000   \n",
       "max         9.000000      99.000000       9.000000      17.000000   \n",
       "\n",
       "               n_emb     edad_padre       peso_nac            lbw  \n",
       "count  430065.000000  430065.000000  430065.000000  430065.000000  \n",
       "mean        2.077202      29.704603       5.767505       0.079953  \n",
       "std         1.276589       7.568099       1.019230       0.271221  \n",
       "min         1.000000      13.000000       1.000000       0.000000  \n",
       "25%         1.000000      24.000000       5.000000       0.000000  \n",
       "50%         2.000000      29.000000       6.000000       0.000000  \n",
       "75%         3.000000      34.000000       6.000000       0.000000  \n",
       "max        17.000000      84.000000       8.000000       1.000000  "
      ]
     },
     "execution_count": 20,
     "metadata": {},
     "output_type": "execute_result"
    }
   ],
   "source": [
    "df_train_full.describe()"
   ]
  },
  {
   "cell_type": "code",
   "execution_count": 21,
   "id": "b112d7f7-fc55-433a-8521-3831a64bd482",
   "metadata": {},
   "outputs": [
    {
     "data": {
      "image/png": "[encoded data removed]",
      "text/plain": [
       "<Figure size 600x1200 with 6 Axes>"
      ]
     },
     "metadata": {},
     "output_type": "display_data"
    }
   ],
   "source": [
    "#Histograms for numeric variables\n",
    "i=0\n",
    "fig, axs = plt.subplots(nrows=len(numeric_vars), ncols=1)\n",
    "fig.subplots_adjust(hspace=0.3, wspace=0.3)\n",
    "fig.set_size_inches(6, 12)\n",
    "for ax, var in zip(axs.flat,numeric_vars):\n",
    "    ax.hist(df_train_full[var])\n",
    "    ax.set_title(label=var_names[var], fontsize=8)\n",
    "    ax.tick_params(axis='x', labelsize=8)\n",
    "    ax.tick_params(axis='y', labelsize=8)\n",
    "    i = i+1\n"
   ]
  },
  {
   "cell_type": "code",
   "execution_count": 22,
   "id": "37504ca3-96d1-4ea9-b214-b8ea2c3c85c1",
   "metadata": {},
   "outputs": [
    {
     "data": {
      "image/png": "[encoded data removed]",
      "text/plain": [
       "<Figure size 1200x1200 with 5 Axes>"
      ]
     },
     "metadata": {},
     "output_type": "display_data"
    }
   ],
   "source": [
    "#Countplots for categorical variables\n",
    "i=0\n",
    "fig, axs = plt.subplots(nrows=len(categorical_vars), ncols=1)\n",
    "fig.subplots_adjust(hspace=0.6, wspace=0.2)\n",
    "fig.set_size_inches(12, 12)\n",
    "for ax, var in zip(axs.flat,categorical_vars):\n",
    "    sns.countplot(x=df_train_full[var], ax=ax)\n",
    "    ax.set_title(label=var_names[var], fontsize=10)\n",
    "    ax.set_xlabel(\" \")\n",
    "    ax.set_ylabel(\" \")\n",
    "    ax.tick_params(axis='x', rotation=45, labelsize=6)\n",
    "    ax.tick_params(axis='y', labelsize=8)\n",
    "    i = i+1\n"
   ]
  },
  {
   "cell_type": "markdown",
   "id": "00331eae-52a7-499e-80a6-febac0eb64ca",
   "metadata": {},
   "source": [
    "### Feature Importance"
   ]
  },
  {
   "cell_type": "code",
   "execution_count": 23,
   "id": "cdb97359-389c-4173-acfe-193f92845b99",
   "metadata": {},
   "outputs": [
    {
     "data": {
      "text/plain": [
       "0    0.920047\n",
       "1    0.079953\n",
       "Name: lbw, dtype: float64"
      ]
     },
     "execution_count": 23,
     "metadata": {},
     "output_type": "execute_result"
    }
   ],
   "source": [
    "df_train_full.lbw.value_counts(normalize=True)"
   ]
  },
  {
   "cell_type": "code",
   "execution_count": 24,
   "id": "c4571046-f743-4754-9563-454e7cd93cfc",
   "metadata": {},
   "outputs": [
    {
     "name": "stdout",
     "output_type": "stream",
     "text": [
      "Average low birth weight incidence: 0.07995303035587643\n"
     ]
    },
    {
     "data": {
      "text/html": [
       "<div>\n",
       "<style scoped>\n",
       "    .dataframe tbody tr th:only-of-type {\n",
       "        vertical-align: middle;\n",
       "    }\n",
       "\n",
       "    .dataframe tbody tr th {\n",
       "        vertical-align: top;\n",
       "    }\n",
       "\n",
       "    .dataframe thead th {\n",
       "        text-align: right;\n",
       "    }\n",
       "</style>\n",
       "<table border=\"1\" class=\"dataframe\">\n",
       "  <thead>\n",
       "    <tr style=\"text-align: right;\">\n",
       "      <th></th>\n",
       "      <th>mean</th>\n",
       "      <th>diff</th>\n",
       "      <th>risk</th>\n",
       "    </tr>\n",
       "    <tr>\n",
       "      <th>Marital status - mother</th>\n",
       "      <th></th>\n",
       "      <th></th>\n",
       "      <th></th>\n",
       "    </tr>\n",
       "  </thead>\n",
       "  <tbody>\n",
       "    <tr>\n",
       "      <th>Cohabiting - 2Y or more</th>\n",
       "      <td>0.076581</td>\n",
       "      <td>-0.003372</td>\n",
       "      <td>0.957820</td>\n",
       "    </tr>\n",
       "    <tr>\n",
       "      <th>Cohabiting - less than 2Y</th>\n",
       "      <td>0.084645</td>\n",
       "      <td>0.004692</td>\n",
       "      <td>1.058688</td>\n",
       "    </tr>\n",
       "    <tr>\n",
       "      <th>Divorced</th>\n",
       "      <td>0.090566</td>\n",
       "      <td>0.010613</td>\n",
       "      <td>1.132741</td>\n",
       "    </tr>\n",
       "    <tr>\n",
       "      <th>Married</th>\n",
       "      <td>0.075820</td>\n",
       "      <td>-0.004133</td>\n",
       "      <td>0.948312</td>\n",
       "    </tr>\n",
       "    <tr>\n",
       "      <th>Single</th>\n",
       "      <td>0.092682</td>\n",
       "      <td>0.012729</td>\n",
       "      <td>1.159205</td>\n",
       "    </tr>\n",
       "    <tr>\n",
       "      <th>Widowed</th>\n",
       "      <td>0.053968</td>\n",
       "      <td>-0.025985</td>\n",
       "      <td>0.674999</td>\n",
       "    </tr>\n",
       "  </tbody>\n",
       "</table>\n",
       "</div>"
      ],
      "text/plain": [
       "                               mean      diff      risk\n",
       "Marital status - mother                                \n",
       "Cohabiting - 2Y or more    0.076581 -0.003372  0.957820\n",
       "Cohabiting - less than 2Y  0.084645  0.004692  1.058688\n",
       "Divorced                   0.090566  0.010613  1.132741\n",
       "Married                    0.075820 -0.004133  0.948312\n",
       "Single                     0.092682  0.012729  1.159205\n",
       "Widowed                    0.053968 -0.025985  0.674999"
      ]
     },
     "metadata": {},
     "output_type": "display_data"
    },
    {
     "data": {
      "text/html": [
       "<div>\n",
       "<style scoped>\n",
       "    .dataframe tbody tr th:only-of-type {\n",
       "        vertical-align: middle;\n",
       "    }\n",
       "\n",
       "    .dataframe tbody tr th {\n",
       "        vertical-align: top;\n",
       "    }\n",
       "\n",
       "    .dataframe thead th {\n",
       "        text-align: right;\n",
       "    }\n",
       "</style>\n",
       "<table border=\"1\" class=\"dataframe\">\n",
       "  <thead>\n",
       "    <tr style=\"text-align: right;\">\n",
       "      <th></th>\n",
       "      <th>mean</th>\n",
       "      <th>diff</th>\n",
       "      <th>risk</th>\n",
       "    </tr>\n",
       "    <tr>\n",
       "      <th>Education level - mother</th>\n",
       "      <th></th>\n",
       "      <th></th>\n",
       "      <th></th>\n",
       "    </tr>\n",
       "  </thead>\n",
       "  <tbody>\n",
       "    <tr>\n",
       "      <th>Non-University Higher</th>\n",
       "      <td>0.079685</td>\n",
       "      <td>-0.000268</td>\n",
       "      <td>0.996651</td>\n",
       "    </tr>\n",
       "    <tr>\n",
       "      <th>None</th>\n",
       "      <td>0.090700</td>\n",
       "      <td>0.010747</td>\n",
       "      <td>1.134416</td>\n",
       "    </tr>\n",
       "    <tr>\n",
       "      <th>Postgraduate</th>\n",
       "      <td>0.071833</td>\n",
       "      <td>-0.008120</td>\n",
       "      <td>0.898444</td>\n",
       "    </tr>\n",
       "    <tr>\n",
       "      <th>Preschool</th>\n",
       "      <td>0.077949</td>\n",
       "      <td>-0.002004</td>\n",
       "      <td>0.974931</td>\n",
       "    </tr>\n",
       "    <tr>\n",
       "      <th>Primary</th>\n",
       "      <td>0.077709</td>\n",
       "      <td>-0.002244</td>\n",
       "      <td>0.971932</td>\n",
       "    </tr>\n",
       "    <tr>\n",
       "      <th>Secondary</th>\n",
       "      <td>0.080977</td>\n",
       "      <td>0.001024</td>\n",
       "      <td>1.012813</td>\n",
       "    </tr>\n",
       "    <tr>\n",
       "      <th>Undegraduate</th>\n",
       "      <td>0.077478</td>\n",
       "      <td>-0.002475</td>\n",
       "      <td>0.969043</td>\n",
       "    </tr>\n",
       "  </tbody>\n",
       "</table>\n",
       "</div>"
      ],
      "text/plain": [
       "                              mean      diff      risk\n",
       "Education level - mother                              \n",
       "Non-University Higher     0.079685 -0.000268  0.996651\n",
       "None                      0.090700  0.010747  1.134416\n",
       "Postgraduate              0.071833 -0.008120  0.898444\n",
       "Preschool                 0.077949 -0.002004  0.974931\n",
       "Primary                   0.077709 -0.002244  0.971932\n",
       "Secondary                 0.080977  0.001024  1.012813\n",
       "Undegraduate              0.077478 -0.002475  0.969043"
      ]
     },
     "metadata": {},
     "output_type": "display_data"
    },
    {
     "data": {
      "text/html": [
       "<div>\n",
       "<style scoped>\n",
       "    .dataframe tbody tr th:only-of-type {\n",
       "        vertical-align: middle;\n",
       "    }\n",
       "\n",
       "    .dataframe tbody tr th {\n",
       "        vertical-align: top;\n",
       "    }\n",
       "\n",
       "    .dataframe thead th {\n",
       "        text-align: right;\n",
       "    }\n",
       "</style>\n",
       "<table border=\"1\" class=\"dataframe\">\n",
       "  <thead>\n",
       "    <tr style=\"text-align: right;\">\n",
       "      <th></th>\n",
       "      <th>mean</th>\n",
       "      <th>diff</th>\n",
       "      <th>risk</th>\n",
       "    </tr>\n",
       "    <tr>\n",
       "      <th>Health Insurance Regime - mother</th>\n",
       "      <th></th>\n",
       "      <th></th>\n",
       "      <th></th>\n",
       "    </tr>\n",
       "  </thead>\n",
       "  <tbody>\n",
       "    <tr>\n",
       "      <th>Contributory</th>\n",
       "      <td>0.085060</td>\n",
       "      <td>0.005107</td>\n",
       "      <td>1.063873</td>\n",
       "    </tr>\n",
       "    <tr>\n",
       "      <th>Exception</th>\n",
       "      <td>0.069595</td>\n",
       "      <td>-0.010358</td>\n",
       "      <td>0.870453</td>\n",
       "    </tr>\n",
       "    <tr>\n",
       "      <th>Non-insured</th>\n",
       "      <td>0.087831</td>\n",
       "      <td>0.007878</td>\n",
       "      <td>1.098536</td>\n",
       "    </tr>\n",
       "    <tr>\n",
       "      <th>Special</th>\n",
       "      <td>0.100000</td>\n",
       "      <td>0.020047</td>\n",
       "      <td>1.250734</td>\n",
       "    </tr>\n",
       "    <tr>\n",
       "      <th>Subsidized</th>\n",
       "      <td>0.075037</td>\n",
       "      <td>-0.004916</td>\n",
       "      <td>0.938512</td>\n",
       "    </tr>\n",
       "  </tbody>\n",
       "</table>\n",
       "</div>"
      ],
      "text/plain": [
       "                                      mean      diff      risk\n",
       "Health Insurance Regime - mother                              \n",
       "Contributory                      0.085060  0.005107  1.063873\n",
       "Exception                         0.069595 -0.010358  0.870453\n",
       "Non-insured                       0.087831  0.007878  1.098536\n",
       "Special                           0.100000  0.020047  1.250734\n",
       "Subsidized                        0.075037 -0.004916  0.938512"
      ]
     },
     "metadata": {},
     "output_type": "display_data"
    },
    {
     "data": {
      "text/html": [
       "<div>\n",
       "<style scoped>\n",
       "    .dataframe tbody tr th:only-of-type {\n",
       "        vertical-align: middle;\n",
       "    }\n",
       "\n",
       "    .dataframe tbody tr th {\n",
       "        vertical-align: top;\n",
       "    }\n",
       "\n",
       "    .dataframe thead th {\n",
       "        text-align: right;\n",
       "    }\n",
       "</style>\n",
       "<table border=\"1\" class=\"dataframe\">\n",
       "  <thead>\n",
       "    <tr style=\"text-align: right;\">\n",
       "      <th></th>\n",
       "      <th>mean</th>\n",
       "      <th>diff</th>\n",
       "      <th>risk</th>\n",
       "    </tr>\n",
       "    <tr>\n",
       "      <th>Residential area - mother</th>\n",
       "      <th></th>\n",
       "      <th></th>\n",
       "      <th></th>\n",
       "    </tr>\n",
       "  </thead>\n",
       "  <tbody>\n",
       "    <tr>\n",
       "      <th>Cabecera Municipal</th>\n",
       "      <td>0.082092</td>\n",
       "      <td>0.002139</td>\n",
       "      <td>1.026755</td>\n",
       "    </tr>\n",
       "    <tr>\n",
       "      <th>Centro Poblado</th>\n",
       "      <td>0.066363</td>\n",
       "      <td>-0.013590</td>\n",
       "      <td>0.830022</td>\n",
       "    </tr>\n",
       "    <tr>\n",
       "      <th>Rural</th>\n",
       "      <td>0.074888</td>\n",
       "      <td>-0.005065</td>\n",
       "      <td>0.936645</td>\n",
       "    </tr>\n",
       "  </tbody>\n",
       "</table>\n",
       "</div>"
      ],
      "text/plain": [
       "                               mean      diff      risk\n",
       "Residential area - mother                              \n",
       "Cabecera Municipal         0.082092  0.002139  1.026755\n",
       "Centro Poblado             0.066363 -0.013590  0.830022\n",
       "Rural                      0.074888 -0.005065  0.936645"
      ]
     },
     "metadata": {},
     "output_type": "display_data"
    },
    {
     "data": {
      "text/html": [
       "<div>\n",
       "<style scoped>\n",
       "    .dataframe tbody tr th:only-of-type {\n",
       "        vertical-align: middle;\n",
       "    }\n",
       "\n",
       "    .dataframe tbody tr th {\n",
       "        vertical-align: top;\n",
       "    }\n",
       "\n",
       "    .dataframe thead th {\n",
       "        text-align: right;\n",
       "    }\n",
       "</style>\n",
       "<table border=\"1\" class=\"dataframe\">\n",
       "  <thead>\n",
       "    <tr style=\"text-align: right;\">\n",
       "      <th></th>\n",
       "      <th>mean</th>\n",
       "      <th>diff</th>\n",
       "      <th>risk</th>\n",
       "    </tr>\n",
       "    <tr>\n",
       "      <th>Education level - father</th>\n",
       "      <th></th>\n",
       "      <th></th>\n",
       "      <th></th>\n",
       "    </tr>\n",
       "  </thead>\n",
       "  <tbody>\n",
       "    <tr>\n",
       "      <th>Non-University Higher</th>\n",
       "      <td>0.075916</td>\n",
       "      <td>-0.004037</td>\n",
       "      <td>0.949510</td>\n",
       "    </tr>\n",
       "    <tr>\n",
       "      <th>None</th>\n",
       "      <td>0.089448</td>\n",
       "      <td>0.009495</td>\n",
       "      <td>1.118753</td>\n",
       "    </tr>\n",
       "    <tr>\n",
       "      <th>Postgraduate</th>\n",
       "      <td>0.073415</td>\n",
       "      <td>-0.006538</td>\n",
       "      <td>0.918225</td>\n",
       "    </tr>\n",
       "    <tr>\n",
       "      <th>Preschool</th>\n",
       "      <td>0.076122</td>\n",
       "      <td>-0.003831</td>\n",
       "      <td>0.952081</td>\n",
       "    </tr>\n",
       "    <tr>\n",
       "      <th>Primary</th>\n",
       "      <td>0.077480</td>\n",
       "      <td>-0.002473</td>\n",
       "      <td>0.969065</td>\n",
       "    </tr>\n",
       "    <tr>\n",
       "      <th>Secondary</th>\n",
       "      <td>0.082143</td>\n",
       "      <td>0.002190</td>\n",
       "      <td>1.027387</td>\n",
       "    </tr>\n",
       "    <tr>\n",
       "      <th>Undegraduate</th>\n",
       "      <td>0.074232</td>\n",
       "      <td>-0.005721</td>\n",
       "      <td>0.928441</td>\n",
       "    </tr>\n",
       "  </tbody>\n",
       "</table>\n",
       "</div>"
      ],
      "text/plain": [
       "                              mean      diff      risk\n",
       "Education level - father                              \n",
       "Non-University Higher     0.075916 -0.004037  0.949510\n",
       "None                      0.089448  0.009495  1.118753\n",
       "Postgraduate              0.073415 -0.006538  0.918225\n",
       "Preschool                 0.076122 -0.003831  0.952081\n",
       "Primary                   0.077480 -0.002473  0.969065\n",
       "Secondary                 0.082143  0.002190  1.027387\n",
       "Undegraduate              0.074232 -0.005721  0.928441"
      ]
     },
     "metadata": {},
     "output_type": "display_data"
    }
   ],
   "source": [
    "#Mean comparison for categorical variables\n",
    "\n",
    "#Mean birth weight\n",
    "global_mean = df_train_full.lbw.mean()\n",
    "print(\"Average low birth weight incidence:\", global_mean)\n",
    "\n",
    "#Mean comparison\n",
    "for var in categorical_vars:\n",
    "    df_group = df_train_full.groupby(by=var).lbw.agg([\"mean\"])\n",
    "    df_group.index.name = var_names[var]\n",
    "    df_group[\"diff\"] = df_group[\"mean\"] - global_mean\n",
    "    df_group[\"risk\"] = df_group[\"mean\"] / global_mean\n",
    "    display(df_group)   \n"
   ]
  },
  {
   "cell_type": "code",
   "execution_count": 25,
   "id": "4b7f40a2-25b1-46dd-bd43-fe6573b7c81c",
   "metadata": {},
   "outputs": [
    {
     "data": {
      "text/html": [
       "<div>\n",
       "<style scoped>\n",
       "    .dataframe tbody tr th:only-of-type {\n",
       "        vertical-align: middle;\n",
       "    }\n",
       "\n",
       "    .dataframe tbody tr th {\n",
       "        vertical-align: top;\n",
       "    }\n",
       "\n",
       "    .dataframe thead th {\n",
       "        text-align: right;\n",
       "    }\n",
       "</style>\n",
       "<table border=\"1\" class=\"dataframe\">\n",
       "  <thead>\n",
       "    <tr style=\"text-align: right;\">\n",
       "      <th></th>\n",
       "      <th>MI</th>\n",
       "    </tr>\n",
       "  </thead>\n",
       "  <tbody>\n",
       "    <tr>\n",
       "      <th>Marital status - mother</th>\n",
       "      <td>0.001250</td>\n",
       "    </tr>\n",
       "    <tr>\n",
       "      <th>Health Insurance Regime - mother</th>\n",
       "      <td>0.000939</td>\n",
       "    </tr>\n",
       "    <tr>\n",
       "      <th>Education level - father</th>\n",
       "      <td>0.000522</td>\n",
       "    </tr>\n",
       "    <tr>\n",
       "      <th>Education level - mother</th>\n",
       "      <td>0.000391</td>\n",
       "    </tr>\n",
       "    <tr>\n",
       "      <th>Residential area - mother</th>\n",
       "      <td>0.000296</td>\n",
       "    </tr>\n",
       "  </tbody>\n",
       "</table>\n",
       "</div>"
      ],
      "text/plain": [
       "                                        MI\n",
       "Marital status - mother           0.001250\n",
       "Health Insurance Regime - mother  0.000939\n",
       "Education level - father          0.000522\n",
       "Education level - mother          0.000391\n",
       "Residential area - mother         0.000296"
      ]
     },
     "metadata": {},
     "output_type": "display_data"
    }
   ],
   "source": [
    "#Mutual information score for categorical variables\n",
    "\n",
    "def calculate_mi(series):\n",
    "    return mutual_info_score(series, df_train_full.peso_nac)\n",
    "\n",
    "df_mi = df_train_full[categorical_vars].apply(calculate_mi)\n",
    "df_mi = df_mi.sort_values(ascending=False).to_frame(name='MI')\n",
    "df_mi.rename(index=var_names, inplace=True)\n",
    "\n",
    "display(df_mi)"
   ]
  },
  {
   "cell_type": "code",
   "execution_count": 26,
   "id": "2314cc01-0ba8-45d4-9474-a51a4725f250",
   "metadata": {},
   "outputs": [
    {
     "data": {
      "text/html": [
       "<div>\n",
       "<style scoped>\n",
       "    .dataframe tbody tr th:only-of-type {\n",
       "        vertical-align: middle;\n",
       "    }\n",
       "\n",
       "    .dataframe tbody tr th {\n",
       "        vertical-align: top;\n",
       "    }\n",
       "\n",
       "    .dataframe thead th {\n",
       "        text-align: right;\n",
       "    }\n",
       "</style>\n",
       "<table border=\"1\" class=\"dataframe\">\n",
       "  <thead>\n",
       "    <tr style=\"text-align: right;\">\n",
       "      <th></th>\n",
       "      <th>t_ges</th>\n",
       "      <th>numconsul</th>\n",
       "      <th>edad_madre</th>\n",
       "      <th>n_hijosv</th>\n",
       "      <th>n_emb</th>\n",
       "      <th>edad_padre</th>\n",
       "      <th>lbw</th>\n",
       "    </tr>\n",
       "  </thead>\n",
       "  <tbody>\n",
       "    <tr>\n",
       "      <th>t_ges</th>\n",
       "      <td>1.000000</td>\n",
       "      <td>0.082257</td>\n",
       "      <td>-0.016799</td>\n",
       "      <td>-0.004872</td>\n",
       "      <td>-0.020940</td>\n",
       "      <td>-0.005591</td>\n",
       "      <td>-0.456563</td>\n",
       "    </tr>\n",
       "    <tr>\n",
       "      <th>numconsul</th>\n",
       "      <td>0.082257</td>\n",
       "      <td>1.000000</td>\n",
       "      <td>0.162394</td>\n",
       "      <td>-0.128277</td>\n",
       "      <td>-0.098739</td>\n",
       "      <td>0.110503</td>\n",
       "      <td>-0.065051</td>\n",
       "    </tr>\n",
       "    <tr>\n",
       "      <th>edad_madre</th>\n",
       "      <td>-0.016799</td>\n",
       "      <td>0.162394</td>\n",
       "      <td>1.000000</td>\n",
       "      <td>0.430820</td>\n",
       "      <td>0.455945</td>\n",
       "      <td>0.634190</td>\n",
       "      <td>0.003396</td>\n",
       "    </tr>\n",
       "    <tr>\n",
       "      <th>n_hijosv</th>\n",
       "      <td>-0.004872</td>\n",
       "      <td>-0.128277</td>\n",
       "      <td>0.430820</td>\n",
       "      <td>1.000000</td>\n",
       "      <td>0.914847</td>\n",
       "      <td>0.337009</td>\n",
       "      <td>-0.024500</td>\n",
       "    </tr>\n",
       "    <tr>\n",
       "      <th>n_emb</th>\n",
       "      <td>-0.020940</td>\n",
       "      <td>-0.098739</td>\n",
       "      <td>0.455945</td>\n",
       "      <td>0.914847</td>\n",
       "      <td>1.000000</td>\n",
       "      <td>0.350538</td>\n",
       "      <td>-0.013066</td>\n",
       "    </tr>\n",
       "    <tr>\n",
       "      <th>edad_padre</th>\n",
       "      <td>-0.005591</td>\n",
       "      <td>0.110503</td>\n",
       "      <td>0.634190</td>\n",
       "      <td>0.337009</td>\n",
       "      <td>0.350538</td>\n",
       "      <td>1.000000</td>\n",
       "      <td>-0.007424</td>\n",
       "    </tr>\n",
       "    <tr>\n",
       "      <th>lbw</th>\n",
       "      <td>-0.456563</td>\n",
       "      <td>-0.065051</td>\n",
       "      <td>0.003396</td>\n",
       "      <td>-0.024500</td>\n",
       "      <td>-0.013066</td>\n",
       "      <td>-0.007424</td>\n",
       "      <td>1.000000</td>\n",
       "    </tr>\n",
       "  </tbody>\n",
       "</table>\n",
       "</div>"
      ],
      "text/plain": [
       "               t_ges  numconsul  edad_madre  n_hijosv     n_emb  edad_padre  \\\n",
       "t_ges       1.000000   0.082257   -0.016799 -0.004872 -0.020940   -0.005591   \n",
       "numconsul   0.082257   1.000000    0.162394 -0.128277 -0.098739    0.110503   \n",
       "edad_madre -0.016799   0.162394    1.000000  0.430820  0.455945    0.634190   \n",
       "n_hijosv   -0.004872  -0.128277    0.430820  1.000000  0.914847    0.337009   \n",
       "n_emb      -0.020940  -0.098739    0.455945  0.914847  1.000000    0.350538   \n",
       "edad_padre -0.005591   0.110503    0.634190  0.337009  0.350538    1.000000   \n",
       "lbw        -0.456563  -0.065051    0.003396 -0.024500 -0.013066   -0.007424   \n",
       "\n",
       "                 lbw  \n",
       "t_ges      -0.456563  \n",
       "numconsul  -0.065051  \n",
       "edad_madre  0.003396  \n",
       "n_hijosv   -0.024500  \n",
       "n_emb      -0.013066  \n",
       "edad_padre -0.007424  \n",
       "lbw         1.000000  "
      ]
     },
     "execution_count": 26,
     "metadata": {},
     "output_type": "execute_result"
    }
   ],
   "source": [
    "#Correlation for numerical variables\n",
    "df_train_full[numeric_vars+[\"lbw\"]].corr()"
   ]
  },
  {
   "cell_type": "markdown",
   "id": "4ea2428c-0818-41aa-86a3-996c42adbb4f",
   "metadata": {},
   "source": [
    "## Modelling"
   ]
  },
  {
   "cell_type": "markdown",
   "id": "f44467e5-25f4-40e0-90b8-31a8cd192ec0",
   "metadata": {},
   "source": [
    "### Logistic Regression Model"
   ]
  },
  {
   "cell_type": "code",
   "execution_count": 27,
   "id": "0135d81a-05bf-474c-ab58-98f283edc96f",
   "metadata": {},
   "outputs": [
    {
     "name": "stdout",
     "output_type": "stream",
     "text": [
      "Optimization terminated successfully.\n",
      "         Current function value: 0.196099\n",
      "         Iterations 8\n"
     ]
    },
    {
     "data": {
      "text/html": [
       "<table class=\"simpletable\">\n",
       "<caption>Logit Regression Results</caption>\n",
       "<tr>\n",
       "  <th>Dep. Variable:</th>           <td>y</td>        <th>  No. Observations:  </th>  <td>288143</td> \n",
       "</tr>\n",
       "<tr>\n",
       "  <th>Model:</th>                 <td>Logit</td>      <th>  Df Residuals:      </th>  <td>288113</td> \n",
       "</tr>\n",
       "<tr>\n",
       "  <th>Method:</th>                 <td>MLE</td>       <th>  Df Model:          </th>  <td>    29</td> \n",
       "</tr>\n",
       "<tr>\n",
       "  <th>Date:</th>            <td>Thu, 10 Nov 2022</td> <th>  Pseudo R-squ.:     </th>  <td>0.2963</td> \n",
       "</tr>\n",
       "<tr>\n",
       "  <th>Time:</th>                <td>02:23:03</td>     <th>  Log-Likelihood:    </th> <td> -56505.</td>\n",
       "</tr>\n",
       "<tr>\n",
       "  <th>converged:</th>             <td>True</td>       <th>  LL-Null:           </th> <td> -80293.</td>\n",
       "</tr>\n",
       "<tr>\n",
       "  <th>Covariance Type:</th>     <td>nonrobust</td>    <th>  LLR p-value:       </th>  <td> 0.000</td> \n",
       "</tr>\n",
       "</table>\n",
       "<table class=\"simpletable\">\n",
       "<tr>\n",
       "                   <td></td>                     <th>coef</th>     <th>std err</th>      <th>z</th>      <th>P>|z|</th>  <th>[0.025</th>    <th>0.975]</th>  \n",
       "</tr>\n",
       "<tr>\n",
       "  <th>t_ges</th>                              <td>   -3.1570</td> <td>    0.018</td> <td> -178.166</td> <td> 0.000</td> <td>   -3.192</td> <td>   -3.122</td>\n",
       "</tr>\n",
       "<tr>\n",
       "  <th>numconsul</th>                          <td>   -0.0689</td> <td>    0.003</td> <td>  -20.176</td> <td> 0.000</td> <td>   -0.076</td> <td>   -0.062</td>\n",
       "</tr>\n",
       "<tr>\n",
       "  <th>edad_madre</th>                         <td>    0.1197</td> <td>    0.009</td> <td>   13.616</td> <td> 0.000</td> <td>    0.102</td> <td>    0.137</td>\n",
       "</tr>\n",
       "<tr>\n",
       "  <th>n_hijosv</th>                           <td>   -0.2337</td> <td>    0.017</td> <td>  -13.689</td> <td> 0.000</td> <td>   -0.267</td> <td>   -0.200</td>\n",
       "</tr>\n",
       "<tr>\n",
       "  <th>n_emb</th>                              <td>    0.0231</td> <td>    0.014</td> <td>    1.621</td> <td> 0.105</td> <td>   -0.005</td> <td>    0.051</td>\n",
       "</tr>\n",
       "<tr>\n",
       "  <th>edad_padre</th>                         <td>   -0.0040</td> <td>    0.001</td> <td>   -2.894</td> <td> 0.004</td> <td>   -0.007</td> <td>   -0.001</td>\n",
       "</tr>\n",
       "<tr>\n",
       "  <th>est_civm_Cohabiting - less than 2Y</th> <td>    0.0806</td> <td>    0.021</td> <td>    3.856</td> <td> 0.000</td> <td>    0.040</td> <td>    0.122</td>\n",
       "</tr>\n",
       "<tr>\n",
       "  <th>est_civm_Divorced</th>                  <td>    0.1034</td> <td>    0.142</td> <td>    0.728</td> <td> 0.467</td> <td>   -0.175</td> <td>    0.382</td>\n",
       "</tr>\n",
       "<tr>\n",
       "  <th>est_civm_Married</th>                   <td>   -0.0219</td> <td>    0.026</td> <td>   -0.845</td> <td> 0.398</td> <td>   -0.073</td> <td>    0.029</td>\n",
       "</tr>\n",
       "<tr>\n",
       "  <th>est_civm_Single</th>                    <td>    0.1648</td> <td>    0.025</td> <td>    6.589</td> <td> 0.000</td> <td>    0.116</td> <td>    0.214</td>\n",
       "</tr>\n",
       "<tr>\n",
       "  <th>est_civm_Widowed</th>                   <td>   -0.3036</td> <td>    0.353</td> <td>   -0.860</td> <td> 0.390</td> <td>   -0.996</td> <td>    0.388</td>\n",
       "</tr>\n",
       "<tr>\n",
       "  <th>niv_edum_None</th>                      <td>    0.1567</td> <td>    0.103</td> <td>    1.523</td> <td> 0.128</td> <td>   -0.045</td> <td>    0.358</td>\n",
       "</tr>\n",
       "<tr>\n",
       "  <th>niv_edum_Postgraduate</th>              <td>   -0.2135</td> <td>    0.083</td> <td>   -2.572</td> <td> 0.010</td> <td>   -0.376</td> <td>   -0.051</td>\n",
       "</tr>\n",
       "<tr>\n",
       "  <th>niv_edum_Preschool</th>                 <td>    0.1282</td> <td>    0.171</td> <td>    0.748</td> <td> 0.454</td> <td>   -0.207</td> <td>    0.464</td>\n",
       "</tr>\n",
       "<tr>\n",
       "  <th>niv_edum_Primary</th>                   <td>    0.1057</td> <td>    0.038</td> <td>    2.805</td> <td> 0.005</td> <td>    0.032</td> <td>    0.180</td>\n",
       "</tr>\n",
       "<tr>\n",
       "  <th>niv_edum_Secondary</th>                 <td>    0.0734</td> <td>    0.027</td> <td>    2.757</td> <td> 0.006</td> <td>    0.021</td> <td>    0.126</td>\n",
       "</tr>\n",
       "<tr>\n",
       "  <th>niv_edum_Undegraduate</th>              <td>   -0.0373</td> <td>    0.034</td> <td>   -1.088</td> <td> 0.277</td> <td>   -0.104</td> <td>    0.030</td>\n",
       "</tr>\n",
       "<tr>\n",
       "  <th>seg_social_Exception</th>               <td>   -0.3004</td> <td>    0.060</td> <td>   -5.000</td> <td> 0.000</td> <td>   -0.418</td> <td>   -0.183</td>\n",
       "</tr>\n",
       "<tr>\n",
       "  <th>seg_social_Non-insured</th>             <td>   -0.0701</td> <td>    0.031</td> <td>   -2.245</td> <td> 0.025</td> <td>   -0.131</td> <td>   -0.009</td>\n",
       "</tr>\n",
       "<tr>\n",
       "  <th>seg_social_Special</th>                 <td>    0.0391</td> <td>    0.424</td> <td>    0.092</td> <td> 0.926</td> <td>   -0.791</td> <td>    0.869</td>\n",
       "</tr>\n",
       "<tr>\n",
       "  <th>seg_social_Subsidized</th>              <td>   -0.1686</td> <td>    0.020</td> <td>   -8.571</td> <td> 0.000</td> <td>   -0.207</td> <td>   -0.130</td>\n",
       "</tr>\n",
       "<tr>\n",
       "  <th>area_res_Centro Poblado</th>            <td>   -0.1981</td> <td>    0.033</td> <td>   -5.932</td> <td> 0.000</td> <td>   -0.264</td> <td>   -0.133</td>\n",
       "</tr>\n",
       "<tr>\n",
       "  <th>area_res_Rural</th>                     <td>   -0.0244</td> <td>    0.025</td> <td>   -0.993</td> <td> 0.321</td> <td>   -0.072</td> <td>    0.024</td>\n",
       "</tr>\n",
       "<tr>\n",
       "  <th>niv_edup_None</th>                      <td>    0.2456</td> <td>    0.075</td> <td>    3.276</td> <td> 0.001</td> <td>    0.099</td> <td>    0.393</td>\n",
       "</tr>\n",
       "<tr>\n",
       "  <th>niv_edup_Postgraduate</th>              <td>    0.0620</td> <td>    0.090</td> <td>    0.692</td> <td> 0.489</td> <td>   -0.114</td> <td>    0.238</td>\n",
       "</tr>\n",
       "<tr>\n",
       "  <th>niv_edup_Preschool</th>                 <td>    0.2659</td> <td>    0.150</td> <td>    1.775</td> <td> 0.076</td> <td>   -0.028</td> <td>    0.559</td>\n",
       "</tr>\n",
       "<tr>\n",
       "  <th>niv_edup_Primary</th>                   <td>    0.1472</td> <td>    0.038</td> <td>    3.886</td> <td> 0.000</td> <td>    0.073</td> <td>    0.221</td>\n",
       "</tr>\n",
       "<tr>\n",
       "  <th>niv_edup_Secondary</th>                 <td>    0.1263</td> <td>    0.030</td> <td>    4.152</td> <td> 0.000</td> <td>    0.067</td> <td>    0.186</td>\n",
       "</tr>\n",
       "<tr>\n",
       "  <th>niv_edup_Undegraduate</th>              <td>   -0.0151</td> <td>    0.038</td> <td>   -0.398</td> <td> 0.691</td> <td>   -0.090</td> <td>    0.059</td>\n",
       "</tr>\n",
       "<tr>\n",
       "  <th>intercept</th>                          <td>    9.0423</td> <td>    0.076</td> <td>  119.473</td> <td> 0.000</td> <td>    8.894</td> <td>    9.191</td>\n",
       "</tr>\n",
       "</table>"
      ],
      "text/plain": [
       "<class 'statsmodels.iolib.summary.Summary'>\n",
       "\"\"\"\n",
       "                           Logit Regression Results                           \n",
       "==============================================================================\n",
       "Dep. Variable:                      y   No. Observations:               288143\n",
       "Model:                          Logit   Df Residuals:                   288113\n",
       "Method:                           MLE   Df Model:                           29\n",
       "Date:                Thu, 10 Nov 2022   Pseudo R-squ.:                  0.2963\n",
       "Time:                        02:23:03   Log-Likelihood:                -56505.\n",
       "converged:                       True   LL-Null:                       -80293.\n",
       "Covariance Type:            nonrobust   LLR p-value:                     0.000\n",
       "======================================================================================================\n",
       "                                         coef    std err          z      P>|z|      [0.025      0.975]\n",
       "------------------------------------------------------------------------------------------------------\n",
       "t_ges                                 -3.1570      0.018   -178.166      0.000      -3.192      -3.122\n",
       "numconsul                             -0.0689      0.003    -20.176      0.000      -0.076      -0.062\n",
       "edad_madre                             0.1197      0.009     13.616      0.000       0.102       0.137\n",
       "n_hijosv                              -0.2337      0.017    -13.689      0.000      -0.267      -0.200\n",
       "n_emb                                  0.0231      0.014      1.621      0.105      -0.005       0.051\n",
       "edad_padre                            -0.0040      0.001     -2.894      0.004      -0.007      -0.001\n",
       "est_civm_Cohabiting - less than 2Y     0.0806      0.021      3.856      0.000       0.040       0.122\n",
       "est_civm_Divorced                      0.1034      0.142      0.728      0.467      -0.175       0.382\n",
       "est_civm_Married                      -0.0219      0.026     -0.845      0.398      -0.073       0.029\n",
       "est_civm_Single                        0.1648      0.025      6.589      0.000       0.116       0.214\n",
       "est_civm_Widowed                      -0.3036      0.353     -0.860      0.390      -0.996       0.388\n",
       "niv_edum_None                          0.1567      0.103      1.523      0.128      -0.045       0.358\n",
       "niv_edum_Postgraduate                 -0.2135      0.083     -2.572      0.010      -0.376      -0.051\n",
       "niv_edum_Preschool                     0.1282      0.171      0.748      0.454      -0.207       0.464\n",
       "niv_edum_Primary                       0.1057      0.038      2.805      0.005       0.032       0.180\n",
       "niv_edum_Secondary                     0.0734      0.027      2.757      0.006       0.021       0.126\n",
       "niv_edum_Undegraduate                 -0.0373      0.034     -1.088      0.277      -0.104       0.030\n",
       "seg_social_Exception                  -0.3004      0.060     -5.000      0.000      -0.418      -0.183\n",
       "seg_social_Non-insured                -0.0701      0.031     -2.245      0.025      -0.131      -0.009\n",
       "seg_social_Special                     0.0391      0.424      0.092      0.926      -0.791       0.869\n",
       "seg_social_Subsidized                 -0.1686      0.020     -8.571      0.000      -0.207      -0.130\n",
       "area_res_Centro Poblado               -0.1981      0.033     -5.932      0.000      -0.264      -0.133\n",
       "area_res_Rural                        -0.0244      0.025     -0.993      0.321      -0.072       0.024\n",
       "niv_edup_None                          0.2456      0.075      3.276      0.001       0.099       0.393\n",
       "niv_edup_Postgraduate                  0.0620      0.090      0.692      0.489      -0.114       0.238\n",
       "niv_edup_Preschool                     0.2659      0.150      1.775      0.076      -0.028       0.559\n",
       "niv_edup_Primary                       0.1472      0.038      3.886      0.000       0.073       0.221\n",
       "niv_edup_Secondary                     0.1263      0.030      4.152      0.000       0.067       0.186\n",
       "niv_edup_Undegraduate                 -0.0151      0.038     -0.398      0.691      -0.090       0.059\n",
       "intercept                              9.0423      0.076    119.473      0.000       8.894       9.191\n",
       "======================================================================================================\n",
       "\"\"\""
      ]
     },
     "execution_count": 27,
     "metadata": {},
     "output_type": "execute_result"
    }
   ],
   "source": [
    "#Fit model with all variables using statsmodel module to evaluate significance of variables\n",
    "\n",
    "df_train_sm = df_train.copy()\n",
    "y_train_sm = y_train.copy()\n",
    "\n",
    "#Encoding for categorical variables\n",
    "df_train_sm = pd.get_dummies(df_train_sm, drop_first=True)\n",
    "\n",
    "df_train_sm[\"intercept\"] = 1\n",
    "\n",
    "logit = sm.Logit(y_train_sm, df_train_sm)\n",
    "logit_res = logit.fit()\n",
    "logit_res.summary()"
   ]
  },
  {
   "cell_type": "code",
   "execution_count": 28,
   "id": "a1a23b4f-5833-4686-8be0-9526ad63179d",
   "metadata": {},
   "outputs": [
    {
     "data": {
      "text/html": [
       "<style>#sk-container-id-1 {color: black;background-color: white;}#sk-container-id-1 pre{padding: 0;}#sk-container-id-1 div.sk-toggleable {background-color: white;}#sk-container-id-1 label.sk-toggleable__label {cursor: pointer;display: block;width: 100%;margin-bottom: 0;padding: 0.3em;box-sizing: border-box;text-align: center;}#sk-container-id-1 label.sk-toggleable__label-arrow:before {content: \"▸\";float: left;margin-right: 0.25em;color: #696969;}#sk-container-id-1 label.sk-toggleable__label-arrow:hover:before {color: black;}#sk-container-id-1 div.sk-estimator:hover label.sk-toggleable__label-arrow:before {color: black;}#sk-container-id-1 div.sk-toggleable__content {max-height: 0;max-width: 0;overflow: hidden;text-align: left;background-color: #f0f8ff;}#sk-container-id-1 div.sk-toggleable__content pre {margin: 0.2em;color: black;border-radius: 0.25em;background-color: #f0f8ff;}#sk-container-id-1 input.sk-toggleable__control:checked~div.sk-toggleable__content {max-height: 200px;max-width: 100%;overflow: auto;}#sk-container-id-1 input.sk-toggleable__control:checked~label.sk-toggleable__label-arrow:before {content: \"▾\";}#sk-container-id-1 div.sk-estimator input.sk-toggleable__control:checked~label.sk-toggleable__label {background-color: #d4ebff;}#sk-container-id-1 div.sk-label input.sk-toggleable__control:checked~label.sk-toggleable__label {background-color: #d4ebff;}#sk-container-id-1 input.sk-hidden--visually {border: 0;clip: rect(1px 1px 1px 1px);clip: rect(1px, 1px, 1px, 1px);height: 1px;margin: -1px;overflow: hidden;padding: 0;position: absolute;width: 1px;}#sk-container-id-1 div.sk-estimator {font-family: monospace;background-color: #f0f8ff;border: 1px dotted black;border-radius: 0.25em;box-sizing: border-box;margin-bottom: 0.5em;}#sk-container-id-1 div.sk-estimator:hover {background-color: #d4ebff;}#sk-container-id-1 div.sk-parallel-item::after {content: \"\";width: 100%;border-bottom: 1px solid gray;flex-grow: 1;}#sk-container-id-1 div.sk-label:hover label.sk-toggleable__label {background-color: #d4ebff;}#sk-container-id-1 div.sk-serial::before {content: \"\";position: absolute;border-left: 1px solid gray;box-sizing: border-box;top: 0;bottom: 0;left: 50%;z-index: 0;}#sk-container-id-1 div.sk-serial {display: flex;flex-direction: column;align-items: center;background-color: white;padding-right: 0.2em;padding-left: 0.2em;position: relative;}#sk-container-id-1 div.sk-item {position: relative;z-index: 1;}#sk-container-id-1 div.sk-parallel {display: flex;align-items: stretch;justify-content: center;background-color: white;position: relative;}#sk-container-id-1 div.sk-item::before, #sk-container-id-1 div.sk-parallel-item::before {content: \"\";position: absolute;border-left: 1px solid gray;box-sizing: border-box;top: 0;bottom: 0;left: 50%;z-index: -1;}#sk-container-id-1 div.sk-parallel-item {display: flex;flex-direction: column;z-index: 1;position: relative;background-color: white;}#sk-container-id-1 div.sk-parallel-item:first-child::after {align-self: flex-end;width: 50%;}#sk-container-id-1 div.sk-parallel-item:last-child::after {align-self: flex-start;width: 50%;}#sk-container-id-1 div.sk-parallel-item:only-child::after {width: 0;}#sk-container-id-1 div.sk-dashed-wrapped {border: 1px dashed gray;margin: 0 0.4em 0.5em 0.4em;box-sizing: border-box;padding-bottom: 0.4em;background-color: white;}#sk-container-id-1 div.sk-label label {font-family: monospace;font-weight: bold;display: inline-block;line-height: 1.2em;}#sk-container-id-1 div.sk-label-container {text-align: center;}#sk-container-id-1 div.sk-container {/* jupyter's `normalize.less` sets `[hidden] { display: none; }` but bootstrap.min.css set `[hidden] { display: none !important; }` so we also need the `!important` here to be able to override the default hidden behavior on the sphinx rendered scikit-learn.org. See: https://github.com/scikit-learn/scikit-learn/issues/21755 */display: inline-block !important;position: relative;}#sk-container-id-1 div.sk-text-repr-fallback {display: none;}</style><div id=\"sk-container-id-1\" class=\"sk-top-container\"><div class=\"sk-text-repr-fallback\"><pre>DictVectorizer(sparse=False)</pre><b>In a Jupyter environment, please rerun this cell to show the HTML representation or trust the notebook. <br />On GitHub, the HTML representation is unable to render, please try loading this page with nbviewer.org.</b></div><div class=\"sk-container\" hidden><div class=\"sk-item\"><div class=\"sk-estimator sk-toggleable\"><input class=\"sk-toggleable__control sk-hidden--visually\" id=\"sk-estimator-id-1\" type=\"checkbox\" checked><label for=\"sk-estimator-id-1\" class=\"sk-toggleable__label sk-toggleable__label-arrow\">DictVectorizer</label><div class=\"sk-toggleable__content\"><pre>DictVectorizer(sparse=False)</pre></div></div></div></div></div>"
      ],
      "text/plain": [
       "DictVectorizer(sparse=False)"
      ]
     },
     "execution_count": 28,
     "metadata": {},
     "output_type": "execute_result"
    }
   ],
   "source": [
    "#Encoding with DictVectorizer\n",
    "train_dict = df_train.to_dict(orient='records')\n",
    "dv = DictVectorizer(sparse=False)\n",
    "dv.fit(train_dict)"
   ]
  },
  {
   "cell_type": "code",
   "execution_count": 29,
   "id": "8e040218-72e4-4ddb-8a9c-486774af512f",
   "metadata": {},
   "outputs": [
    {
     "data": {
      "text/plain": [
       "(288143, 34)"
      ]
     },
     "execution_count": 29,
     "metadata": {},
     "output_type": "execute_result"
    }
   ],
   "source": [
    "#Prepare feature matrix for model training\n",
    "X_train = dv.transform(train_dict)\n",
    "X_train.shape"
   ]
  },
  {
   "cell_type": "code",
   "execution_count": 30,
   "id": "b12eb192-912e-479f-9c65-15ebcfb4a1e6",
   "metadata": {},
   "outputs": [
    {
     "data": {
      "text/html": [
       "<style>#sk-container-id-2 {color: black;background-color: white;}#sk-container-id-2 pre{padding: 0;}#sk-container-id-2 div.sk-toggleable {background-color: white;}#sk-container-id-2 label.sk-toggleable__label {cursor: pointer;display: block;width: 100%;margin-bottom: 0;padding: 0.3em;box-sizing: border-box;text-align: center;}#sk-container-id-2 label.sk-toggleable__label-arrow:before {content: \"▸\";float: left;margin-right: 0.25em;color: #696969;}#sk-container-id-2 label.sk-toggleable__label-arrow:hover:before {color: black;}#sk-container-id-2 div.sk-estimator:hover label.sk-toggleable__label-arrow:before {color: black;}#sk-container-id-2 div.sk-toggleable__content {max-height: 0;max-width: 0;overflow: hidden;text-align: left;background-color: #f0f8ff;}#sk-container-id-2 div.sk-toggleable__content pre {margin: 0.2em;color: black;border-radius: 0.25em;background-color: #f0f8ff;}#sk-container-id-2 input.sk-toggleable__control:checked~div.sk-toggleable__content {max-height: 200px;max-width: 100%;overflow: auto;}#sk-container-id-2 input.sk-toggleable__control:checked~label.sk-toggleable__label-arrow:before {content: \"▾\";}#sk-container-id-2 div.sk-estimator input.sk-toggleable__control:checked~label.sk-toggleable__label {background-color: #d4ebff;}#sk-container-id-2 div.sk-label input.sk-toggleable__control:checked~label.sk-toggleable__label {background-color: #d4ebff;}#sk-container-id-2 input.sk-hidden--visually {border: 0;clip: rect(1px 1px 1px 1px);clip: rect(1px, 1px, 1px, 1px);height: 1px;margin: -1px;overflow: hidden;padding: 0;position: absolute;width: 1px;}#sk-container-id-2 div.sk-estimator {font-family: monospace;background-color: #f0f8ff;border: 1px dotted black;border-radius: 0.25em;box-sizing: border-box;margin-bottom: 0.5em;}#sk-container-id-2 div.sk-estimator:hover {background-color: #d4ebff;}#sk-container-id-2 div.sk-parallel-item::after {content: \"\";width: 100%;border-bottom: 1px solid gray;flex-grow: 1;}#sk-container-id-2 div.sk-label:hover label.sk-toggleable__label {background-color: #d4ebff;}#sk-container-id-2 div.sk-serial::before {content: \"\";position: absolute;border-left: 1px solid gray;box-sizing: border-box;top: 0;bottom: 0;left: 50%;z-index: 0;}#sk-container-id-2 div.sk-serial {display: flex;flex-direction: column;align-items: center;background-color: white;padding-right: 0.2em;padding-left: 0.2em;position: relative;}#sk-container-id-2 div.sk-item {position: relative;z-index: 1;}#sk-container-id-2 div.sk-parallel {display: flex;align-items: stretch;justify-content: center;background-color: white;position: relative;}#sk-container-id-2 div.sk-item::before, #sk-container-id-2 div.sk-parallel-item::before {content: \"\";position: absolute;border-left: 1px solid gray;box-sizing: border-box;top: 0;bottom: 0;left: 50%;z-index: -1;}#sk-container-id-2 div.sk-parallel-item {display: flex;flex-direction: column;z-index: 1;position: relative;background-color: white;}#sk-container-id-2 div.sk-parallel-item:first-child::after {align-self: flex-end;width: 50%;}#sk-container-id-2 div.sk-parallel-item:last-child::after {align-self: flex-start;width: 50%;}#sk-container-id-2 div.sk-parallel-item:only-child::after {width: 0;}#sk-container-id-2 div.sk-dashed-wrapped {border: 1px dashed gray;margin: 0 0.4em 0.5em 0.4em;box-sizing: border-box;padding-bottom: 0.4em;background-color: white;}#sk-container-id-2 div.sk-label label {font-family: monospace;font-weight: bold;display: inline-block;line-height: 1.2em;}#sk-container-id-2 div.sk-label-container {text-align: center;}#sk-container-id-2 div.sk-container {/* jupyter's `normalize.less` sets `[hidden] { display: none; }` but bootstrap.min.css set `[hidden] { display: none !important; }` so we also need the `!important` here to be able to override the default hidden behavior on the sphinx rendered scikit-learn.org. See: https://github.com/scikit-learn/scikit-learn/issues/21755 */display: inline-block !important;position: relative;}#sk-container-id-2 div.sk-text-repr-fallback {display: none;}</style><div id=\"sk-container-id-2\" class=\"sk-top-container\"><div class=\"sk-text-repr-fallback\"><pre>LogisticRegression(random_state=1, solver=&#x27;liblinear&#x27;)</pre><b>In a Jupyter environment, please rerun this cell to show the HTML representation or trust the notebook. <br />On GitHub, the HTML representation is unable to render, please try loading this page with nbviewer.org.</b></div><div class=\"sk-container\" hidden><div class=\"sk-item\"><div class=\"sk-estimator sk-toggleable\"><input class=\"sk-toggleable__control sk-hidden--visually\" id=\"sk-estimator-id-2\" type=\"checkbox\" checked><label for=\"sk-estimator-id-2\" class=\"sk-toggleable__label sk-toggleable__label-arrow\">LogisticRegression</label><div class=\"sk-toggleable__content\"><pre>LogisticRegression(random_state=1, solver=&#x27;liblinear&#x27;)</pre></div></div></div></div></div>"
      ],
      "text/plain": [
       "LogisticRegression(random_state=1, solver='liblinear')"
      ]
     },
     "execution_count": 30,
     "metadata": {},
     "output_type": "execute_result"
    }
   ],
   "source": [
    "#Train the model\n",
    "model = LogisticRegression(solver='liblinear', random_state=1)\n",
    "model.fit(X_train, y_train)"
   ]
  },
  {
   "cell_type": "code",
   "execution_count": 31,
   "id": "facdda80-4315-4fe7-95ac-9b80c5723148",
   "metadata": {},
   "outputs": [],
   "source": [
    "#Model validation\n",
    "val_dict = df_val.to_dict(orient='records')\n",
    "X_val = dv.transform(val_dict)\n",
    "\n",
    "y_pred = model.predict_proba(X_val)[:, 1]"
   ]
  },
  {
   "cell_type": "code",
   "execution_count": 32,
   "id": "0c734793-5e8b-4c8d-b722-e82e7a9d91ef",
   "metadata": {},
   "outputs": [
    {
     "name": "stdout",
     "output_type": "stream",
     "text": [
      "Accuracy: 0.9230915573343104\n"
     ]
    }
   ],
   "source": [
    "#Accuracy\n",
    "print(\"Accuracy:\", accuracy_score(y_val, y_pred>0.5))"
   ]
  },
  {
   "cell_type": "code",
   "execution_count": 33,
   "id": "82494431-01bc-4955-bd40-d4222efde9db",
   "metadata": {},
   "outputs": [
    {
     "name": "stdout",
     "output_type": "stream",
     "text": [
      "Precision: 0.9635193133047211\n"
     ]
    }
   ],
   "source": [
    "#Precision\n",
    "print(\"Precision:\", precision_score(y_val, y_pred>0.5))"
   ]
  },
  {
   "cell_type": "code",
   "execution_count": 34,
   "id": "b508a5ef-7265-42b2-855b-6d9b2746093b",
   "metadata": {},
   "outputs": [
    {
     "name": "stdout",
     "output_type": "stream",
     "text": [
      "Recall: 0.0395699303780735\n"
     ]
    }
   ],
   "source": [
    "#Recall\n",
    "print(\"Recall:\", recall_score(y_val, y_pred>0.5))"
   ]
  },
  {
   "cell_type": "code",
   "execution_count": 35,
   "id": "0202d89a-980b-40f4-9f36-70148f051b35",
   "metadata": {},
   "outputs": [
    {
     "name": "stdout",
     "output_type": "stream",
     "text": [
      "AUC score: 0.8546007967113212\n"
     ]
    }
   ],
   "source": [
    "#AUC score\n",
    "print(\"AUC score:\", roc_auc_score(y_val, y_pred))"
   ]
  },
  {
   "cell_type": "code",
   "execution_count": 36,
   "id": "4277d1e0-ece1-49e7-bb1c-895ed1bf07ef",
   "metadata": {},
   "outputs": [
    {
     "data": {
      "text/plain": [
       "<matplotlib.legend.Legend at 0x7f57e3d957b0>"
      ]
     },
     "execution_count": 36,
     "metadata": {},
     "output_type": "execute_result"
    },
    {
     "data": {
      "image/png": "[encoded data removed]",
      "text/plain": [
       "<Figure size 700x500 with 1 Axes>"
      ]
     },
     "metadata": {},
     "output_type": "display_data"
    }
   ],
   "source": [
    "#ROC curve\n",
    "fpr, tpr, thresholds = roc_curve(y_val, y_pred)\n",
    "\n",
    "plt.figure(figsize=(7, 5))\n",
    "\n",
    "plt.plot(fpr, tpr, label='Logistic Regression Model')\n",
    "plt.plot([0, 1], [0, 1], label='Random', linestyle='--')\n",
    "\n",
    "plt.xlabel('FPR')\n",
    "plt.ylabel('TPR')\n",
    "\n",
    "plt.legend()"
   ]
  },
  {
   "cell_type": "code",
   "execution_count": 37,
   "id": "fb026f5a-dd47-4bd9-a20c-0af506ee9972",
   "metadata": {},
   "outputs": [
    {
     "name": "stdout",
     "output_type": "stream",
     "text": [
      "Average Precision Score: 0.3983865872448247\n"
     ]
    }
   ],
   "source": [
    "#Average Precision Score\n",
    "print(\"Average Precision Score:\", average_precision_score(y_val, y_pred))"
   ]
  },
  {
   "cell_type": "markdown",
   "id": "2c205f3d-a398-485c-bdb4-126caed8b472",
   "metadata": {},
   "source": [
    "#### Cross-validation"
   ]
  },
  {
   "cell_type": "code",
   "execution_count": 38,
   "id": "2c62801c-45b0-4560-bab6-a213800d2079",
   "metadata": {},
   "outputs": [],
   "source": [
    "def train(df_train, y_train, C):\n",
    "    dicts = df_train.to_dict(orient='records')\n",
    "\n",
    "    dv = DictVectorizer(sparse=False)\n",
    "    X_train = dv.fit_transform(dicts)\n",
    "\n",
    "    model = LogisticRegression(solver='liblinear', random_state=1, C=C)\n",
    "    model.fit(X_train, y_train)\n",
    "    \n",
    "    return dv, model"
   ]
  },
  {
   "cell_type": "code",
   "execution_count": 39,
   "id": "55e4829b-550e-4368-9af7-37992722e740",
   "metadata": {},
   "outputs": [],
   "source": [
    "def predict(df, dv, model):\n",
    "    dicts = df.to_dict(orient='records')\n",
    "\n",
    "    X = dv.transform(dicts)\n",
    "    y_pred = model.predict_proba(X)[:, 1]\n",
    "\n",
    "    return y_pred"
   ]
  },
  {
   "cell_type": "code",
   "execution_count": 40,
   "id": "9dc1b050-0665-4c1b-a1bf-eda3a39792f4",
   "metadata": {},
   "outputs": [
    {
     "data": {
      "application/vnd.jupyter.widget-view+json": {
       "model_id": "7632bd1e386a4e2492a7806cf01e81c2",
       "version_major": 2,
       "version_minor": 0
      },
      "text/plain": [
       "  0%|          | 0/7 [00:00<?, ?it/s]"
      ]
     },
     "metadata": {},
     "output_type": "display_data"
    },
    {
     "name": "stdout",
     "output_type": "stream",
     "text": [
      "C=0.001, Mean ROC AUC: 0.842 +- 0.002\n",
      "C=0.001, Mean Average Precision Score: 0.369 +- 0.007\n",
      "C=0.01, Mean ROC AUC: 0.853 +- 0.002\n",
      "C=0.01, Mean Average Precision Score: 0.392 +- 0.005\n",
      "C=0.1, Mean ROC AUC: 0.855 +- 0.002\n",
      "C=0.1, Mean Average Precision Score: 0.395 +- 0.004\n",
      "C=0.5, Mean ROC AUC: 0.856 +- 0.002\n",
      "C=0.5, Mean Average Precision Score: 0.395 +- 0.003\n",
      "C=1, Mean ROC AUC: 0.856 +- 0.002\n",
      "C=1, Mean Average Precision Score: 0.395 +- 0.003\n",
      "C=5, Mean ROC AUC: 0.856 +- 0.002\n",
      "C=5, Mean Average Precision Score: 0.395 +- 0.003\n",
      "C=10, Mean ROC AUC: 0.856 +- 0.002\n",
      "C=10, Mean Average Precision Score: 0.395 +- 0.003\n"
     ]
    }
   ],
   "source": [
    "#Validation with StratifiedKFold to account for unbalanced data\n",
    "n_splits = 3\n",
    "\n",
    "df_train_full_cv = df_train_full[numeric_vars+categorical_vars]\n",
    "y_train_full_cv = df_train_full[\"lbw\"].values\n",
    "\n",
    "for C in tqdm([0.001, 0.01, 0.1, 0.5, 1, 5, 10]):\n",
    "    \n",
    "    scores1 = []\n",
    "    scores2 = []\n",
    "    kfold = StratifiedKFold(n_splits=n_splits, shuffle=True, random_state=1)\n",
    "    \n",
    "    for train_idx, val_idx in kfold.split(df_train_full_cv, y_train_full_cv):\n",
    "        df_train_cv = df_train_full_cv.iloc[train_idx]\n",
    "        df_val_cv = df_train_full_cv.iloc[val_idx]\n",
    "\n",
    "        y_train_cv = y_train_full_cv[train_idx]\n",
    "        y_val_cv = y_train_full_cv[val_idx]\n",
    "\n",
    "        dv_cv, model_cv = train(df_train_cv, y_train_cv, C)\n",
    "        y_pred_cv = predict(df_val_cv, dv_cv, model_cv)\n",
    "\n",
    "        auc_roc = roc_auc_score(y_val_cv, y_pred_cv)\n",
    "        aps = average_precision_score(y_val_cv, y_pred_cv)\n",
    "        scores1.append(auc_roc)\n",
    "        scores2.append(aps)\n",
    "\n",
    "    print('C=%s, Mean ROC AUC: %.3f +- %.3f' % (C, np.mean(scores1), np.std(scores1)))\n",
    "    print('C=%s, Mean Average Precision Score: %.3f +- %.3f' % (C, np.mean(scores2), \n",
    "                                                             np.std(scores2)))"
   ]
  },
  {
   "cell_type": "markdown",
   "id": "55276370-41ec-471a-a139-7078e958ad63",
   "metadata": {},
   "source": [
    "#### SMOTE for class imbalance"
   ]
  },
  {
   "cell_type": "code",
   "execution_count": 41,
   "id": "bf67a4c1-1257-4395-a156-b975628352b8",
   "metadata": {},
   "outputs": [],
   "source": [
    "#Oversampling the dataset using SMOTE\n",
    "smt = SMOTE()\n",
    "df_train_smt1, y_train_smt1 = smt.fit_resample(df_train_sm, y_train_sm)"
   ]
  },
  {
   "cell_type": "code",
   "execution_count": 42,
   "id": "ba55afb5-09cd-4e89-aa30-f7a3f07a07ad",
   "metadata": {},
   "outputs": [
    {
     "data": {
      "text/plain": [
       "<AxesSubplot:ylabel='Count'>"
      ]
     },
     "execution_count": 42,
     "metadata": {},
     "output_type": "execute_result"
    },
    {
     "data": {
      "image/png": "[encoded data removed]",
      "text/plain": [
       "<Figure size 640x480 with 1 Axes>"
      ]
     },
     "metadata": {},
     "output_type": "display_data"
    }
   ],
   "source": [
    "sns.histplot(x=y_train_smt1)"
   ]
  },
  {
   "cell_type": "code",
   "execution_count": 43,
   "id": "091d673b-a27a-4561-ac66-33e742ea3233",
   "metadata": {},
   "outputs": [
    {
     "name": "stdout",
     "output_type": "stream",
     "text": [
      "Optimization terminated successfully.\n",
      "         Current function value: 0.391840\n",
      "         Iterations 7\n"
     ]
    },
    {
     "data": {
      "text/html": [
       "<table class=\"simpletable\">\n",
       "<caption>Logit Regression Results</caption>\n",
       "<tr>\n",
       "  <th>Dep. Variable:</th>           <td>y</td>        <th>  No. Observations:  </th>   <td>530210</td>   \n",
       "</tr>\n",
       "<tr>\n",
       "  <th>Model:</th>                 <td>Logit</td>      <th>  Df Residuals:      </th>   <td>530180</td>   \n",
       "</tr>\n",
       "<tr>\n",
       "  <th>Method:</th>                 <td>MLE</td>       <th>  Df Model:          </th>   <td>    29</td>   \n",
       "</tr>\n",
       "<tr>\n",
       "  <th>Date:</th>            <td>Thu, 10 Nov 2022</td> <th>  Pseudo R-squ.:     </th>   <td>0.4347</td>   \n",
       "</tr>\n",
       "<tr>\n",
       "  <th>Time:</th>                <td>02:26:42</td>     <th>  Log-Likelihood:    </th> <td>-2.0776e+05</td>\n",
       "</tr>\n",
       "<tr>\n",
       "  <th>converged:</th>             <td>True</td>       <th>  LL-Null:           </th> <td>-3.6751e+05</td>\n",
       "</tr>\n",
       "<tr>\n",
       "  <th>Covariance Type:</th>     <td>nonrobust</td>    <th>  LLR p-value:       </th>   <td> 0.000</td>   \n",
       "</tr>\n",
       "</table>\n",
       "<table class=\"simpletable\">\n",
       "<tr>\n",
       "                   <td></td>                     <th>coef</th>     <th>std err</th>      <th>z</th>      <th>P>|z|</th>  <th>[0.025</th>    <th>0.975]</th>  \n",
       "</tr>\n",
       "<tr>\n",
       "  <th>t_ges</th>                              <td>   -3.4925</td> <td>    0.008</td> <td> -415.049</td> <td> 0.000</td> <td>   -3.509</td> <td>   -3.476</td>\n",
       "</tr>\n",
       "<tr>\n",
       "  <th>numconsul</th>                          <td>   -0.0729</td> <td>    0.002</td> <td>  -42.717</td> <td> 0.000</td> <td>   -0.076</td> <td>   -0.070</td>\n",
       "</tr>\n",
       "<tr>\n",
       "  <th>edad_madre</th>                         <td>    0.0283</td> <td>    0.005</td> <td>    6.014</td> <td> 0.000</td> <td>    0.019</td> <td>    0.037</td>\n",
       "</tr>\n",
       "<tr>\n",
       "  <th>n_hijosv</th>                           <td>   -0.0490</td> <td>    0.010</td> <td>   -5.110</td> <td> 0.000</td> <td>   -0.068</td> <td>   -0.030</td>\n",
       "</tr>\n",
       "<tr>\n",
       "  <th>n_emb</th>                              <td>   -0.1267</td> <td>    0.008</td> <td>  -15.316</td> <td> 0.000</td> <td>   -0.143</td> <td>   -0.111</td>\n",
       "</tr>\n",
       "<tr>\n",
       "  <th>edad_padre</th>                         <td>   -0.0070</td> <td>    0.001</td> <td>   -9.719</td> <td> 0.000</td> <td>   -0.008</td> <td>   -0.006</td>\n",
       "</tr>\n",
       "<tr>\n",
       "  <th>est_civm_Cohabiting - less than 2Y</th> <td>   -0.4385</td> <td>    0.011</td> <td>  -38.972</td> <td> 0.000</td> <td>   -0.461</td> <td>   -0.416</td>\n",
       "</tr>\n",
       "<tr>\n",
       "  <th>est_civm_Divorced</th>                  <td>   -2.4207</td> <td>    0.143</td> <td>  -16.962</td> <td> 0.000</td> <td>   -2.700</td> <td>   -2.141</td>\n",
       "</tr>\n",
       "<tr>\n",
       "  <th>est_civm_Married</th>                   <td>   -0.7107</td> <td>    0.014</td> <td>  -49.296</td> <td> 0.000</td> <td>   -0.739</td> <td>   -0.682</td>\n",
       "</tr>\n",
       "<tr>\n",
       "  <th>est_civm_Single</th>                    <td>   -0.5709</td> <td>    0.014</td> <td>  -40.220</td> <td> 0.000</td> <td>   -0.599</td> <td>   -0.543</td>\n",
       "</tr>\n",
       "<tr>\n",
       "  <th>est_civm_Widowed</th>                   <td>   -2.9647</td> <td>    0.369</td> <td>   -8.031</td> <td> 0.000</td> <td>   -3.688</td> <td>   -2.241</td>\n",
       "</tr>\n",
       "<tr>\n",
       "  <th>niv_edum_None</th>                      <td>   -0.5973</td> <td>    0.073</td> <td>   -8.200</td> <td> 0.000</td> <td>   -0.740</td> <td>   -0.455</td>\n",
       "</tr>\n",
       "<tr>\n",
       "  <th>niv_edum_Postgraduate</th>              <td>   -0.7313</td> <td>    0.050</td> <td>  -14.708</td> <td> 0.000</td> <td>   -0.829</td> <td>   -0.634</td>\n",
       "</tr>\n",
       "<tr>\n",
       "  <th>niv_edum_Preschool</th>                 <td>   -1.6914</td> <td>    0.165</td> <td>  -10.230</td> <td> 0.000</td> <td>   -2.015</td> <td>   -1.367</td>\n",
       "</tr>\n",
       "<tr>\n",
       "  <th>niv_edum_Primary</th>                   <td>   -0.3347</td> <td>    0.019</td> <td>  -17.894</td> <td> 0.000</td> <td>   -0.371</td> <td>   -0.298</td>\n",
       "</tr>\n",
       "<tr>\n",
       "  <th>niv_edum_Secondary</th>                 <td>   -0.2569</td> <td>    0.012</td> <td>  -21.607</td> <td> 0.000</td> <td>   -0.280</td> <td>   -0.234</td>\n",
       "</tr>\n",
       "<tr>\n",
       "  <th>niv_edum_Undegraduate</th>              <td>   -0.6127</td> <td>    0.018</td> <td>  -34.678</td> <td> 0.000</td> <td>   -0.647</td> <td>   -0.578</td>\n",
       "</tr>\n",
       "<tr>\n",
       "  <th>seg_social_Exception</th>               <td>   -1.8526</td> <td>    0.045</td> <td>  -41.594</td> <td> 0.000</td> <td>   -1.940</td> <td>   -1.765</td>\n",
       "</tr>\n",
       "<tr>\n",
       "  <th>seg_social_Non-insured</th>             <td>   -0.5335</td> <td>    0.017</td> <td>  -31.650</td> <td> 0.000</td> <td>   -0.567</td> <td>   -0.500</td>\n",
       "</tr>\n",
       "<tr>\n",
       "  <th>seg_social_Special</th>                 <td>   -2.3854</td> <td>    0.445</td> <td>   -5.361</td> <td> 0.000</td> <td>   -3.258</td> <td>   -1.513</td>\n",
       "</tr>\n",
       "<tr>\n",
       "  <th>seg_social_Subsidized</th>              <td>   -0.3024</td> <td>    0.010</td> <td>  -30.965</td> <td> 0.000</td> <td>   -0.322</td> <td>   -0.283</td>\n",
       "</tr>\n",
       "<tr>\n",
       "  <th>area_res_Centro Poblado</th>            <td>   -1.3698</td> <td>    0.022</td> <td>  -62.659</td> <td> 0.000</td> <td>   -1.413</td> <td>   -1.327</td>\n",
       "</tr>\n",
       "<tr>\n",
       "  <th>area_res_Rural</th>                     <td>   -0.6216</td> <td>    0.014</td> <td>  -44.399</td> <td> 0.000</td> <td>   -0.649</td> <td>   -0.594</td>\n",
       "</tr>\n",
       "<tr>\n",
       "  <th>niv_edup_None</th>                      <td>   -1.2094</td> <td>    0.050</td> <td>  -24.004</td> <td> 0.000</td> <td>   -1.308</td> <td>   -1.111</td>\n",
       "</tr>\n",
       "<tr>\n",
       "  <th>niv_edup_Postgraduate</th>              <td>   -0.8746</td> <td>    0.055</td> <td>  -16.020</td> <td> 0.000</td> <td>   -0.982</td> <td>   -0.768</td>\n",
       "</tr>\n",
       "<tr>\n",
       "  <th>niv_edup_Preschool</th>                 <td>   -1.8492</td> <td>    0.133</td> <td>  -13.924</td> <td> 0.000</td> <td>   -2.109</td> <td>   -1.589</td>\n",
       "</tr>\n",
       "<tr>\n",
       "  <th>niv_edup_Primary</th>                   <td>   -0.4965</td> <td>    0.017</td> <td>  -28.693</td> <td> 0.000</td> <td>   -0.530</td> <td>   -0.463</td>\n",
       "</tr>\n",
       "<tr>\n",
       "  <th>niv_edup_Secondary</th>                 <td>   -0.5353</td> <td>    0.013</td> <td>  -41.473</td> <td> 0.000</td> <td>   -0.561</td> <td>   -0.510</td>\n",
       "</tr>\n",
       "<tr>\n",
       "  <th>niv_edup_Undegraduate</th>              <td>   -0.7550</td> <td>    0.019</td> <td>  -40.414</td> <td> 0.000</td> <td>   -0.792</td> <td>   -0.718</td>\n",
       "</tr>\n",
       "<tr>\n",
       "  <th>intercept</th>                          <td>   14.3805</td> <td>    0.040</td> <td>  359.705</td> <td> 0.000</td> <td>   14.302</td> <td>   14.459</td>\n",
       "</tr>\n",
       "</table>"
      ],
      "text/plain": [
       "<class 'statsmodels.iolib.summary.Summary'>\n",
       "\"\"\"\n",
       "                           Logit Regression Results                           \n",
       "==============================================================================\n",
       "Dep. Variable:                      y   No. Observations:               530210\n",
       "Model:                          Logit   Df Residuals:                   530180\n",
       "Method:                           MLE   Df Model:                           29\n",
       "Date:                Thu, 10 Nov 2022   Pseudo R-squ.:                  0.4347\n",
       "Time:                        02:26:42   Log-Likelihood:            -2.0776e+05\n",
       "converged:                       True   LL-Null:                   -3.6751e+05\n",
       "Covariance Type:            nonrobust   LLR p-value:                     0.000\n",
       "======================================================================================================\n",
       "                                         coef    std err          z      P>|z|      [0.025      0.975]\n",
       "------------------------------------------------------------------------------------------------------\n",
       "t_ges                                 -3.4925      0.008   -415.049      0.000      -3.509      -3.476\n",
       "numconsul                             -0.0729      0.002    -42.717      0.000      -0.076      -0.070\n",
       "edad_madre                             0.0283      0.005      6.014      0.000       0.019       0.037\n",
       "n_hijosv                              -0.0490      0.010     -5.110      0.000      -0.068      -0.030\n",
       "n_emb                                 -0.1267      0.008    -15.316      0.000      -0.143      -0.111\n",
       "edad_padre                            -0.0070      0.001     -9.719      0.000      -0.008      -0.006\n",
       "est_civm_Cohabiting - less than 2Y    -0.4385      0.011    -38.972      0.000      -0.461      -0.416\n",
       "est_civm_Divorced                     -2.4207      0.143    -16.962      0.000      -2.700      -2.141\n",
       "est_civm_Married                      -0.7107      0.014    -49.296      0.000      -0.739      -0.682\n",
       "est_civm_Single                       -0.5709      0.014    -40.220      0.000      -0.599      -0.543\n",
       "est_civm_Widowed                      -2.9647      0.369     -8.031      0.000      -3.688      -2.241\n",
       "niv_edum_None                         -0.5973      0.073     -8.200      0.000      -0.740      -0.455\n",
       "niv_edum_Postgraduate                 -0.7313      0.050    -14.708      0.000      -0.829      -0.634\n",
       "niv_edum_Preschool                    -1.6914      0.165    -10.230      0.000      -2.015      -1.367\n",
       "niv_edum_Primary                      -0.3347      0.019    -17.894      0.000      -0.371      -0.298\n",
       "niv_edum_Secondary                    -0.2569      0.012    -21.607      0.000      -0.280      -0.234\n",
       "niv_edum_Undegraduate                 -0.6127      0.018    -34.678      0.000      -0.647      -0.578\n",
       "seg_social_Exception                  -1.8526      0.045    -41.594      0.000      -1.940      -1.765\n",
       "seg_social_Non-insured                -0.5335      0.017    -31.650      0.000      -0.567      -0.500\n",
       "seg_social_Special                    -2.3854      0.445     -5.361      0.000      -3.258      -1.513\n",
       "seg_social_Subsidized                 -0.3024      0.010    -30.965      0.000      -0.322      -0.283\n",
       "area_res_Centro Poblado               -1.3698      0.022    -62.659      0.000      -1.413      -1.327\n",
       "area_res_Rural                        -0.6216      0.014    -44.399      0.000      -0.649      -0.594\n",
       "niv_edup_None                         -1.2094      0.050    -24.004      0.000      -1.308      -1.111\n",
       "niv_edup_Postgraduate                 -0.8746      0.055    -16.020      0.000      -0.982      -0.768\n",
       "niv_edup_Preschool                    -1.8492      0.133    -13.924      0.000      -2.109      -1.589\n",
       "niv_edup_Primary                      -0.4965      0.017    -28.693      0.000      -0.530      -0.463\n",
       "niv_edup_Secondary                    -0.5353      0.013    -41.473      0.000      -0.561      -0.510\n",
       "niv_edup_Undegraduate                 -0.7550      0.019    -40.414      0.000      -0.792      -0.718\n",
       "intercept                             14.3805      0.040    359.705      0.000      14.302      14.459\n",
       "======================================================================================================\n",
       "\"\"\""
      ]
     },
     "execution_count": 43,
     "metadata": {},
     "output_type": "execute_result"
    }
   ],
   "source": [
    "#Fit model with all variables using statsmodel module using oversampled data\n",
    "\n",
    "#Encoding for categorical variables\n",
    "df_train_smt1 = pd.get_dummies(df_train_smt1, drop_first=True)\n",
    "\n",
    "df_train_smt1[\"intercept\"] = 1\n",
    "\n",
    "logit1 = sm.Logit(y_train_smt1, df_train_smt1)\n",
    "logit1_res = logit1.fit()\n",
    "logit1_res.summary()"
   ]
  },
  {
   "cell_type": "code",
   "execution_count": 44,
   "id": "ddcc5d3c-8abf-45d9-89fc-f88610a42291",
   "metadata": {},
   "outputs": [],
   "source": [
    "#Oversampling the dataset using SMOTE for logistic regression with SKLearn\n",
    "df_train1 = pd.get_dummies(df_train)\n",
    "\n",
    "smt = SMOTE()\n",
    "df_train_smt, y_train_smt = smt.fit_resample(df_train_sm, y_train)"
   ]
  },
  {
   "cell_type": "code",
   "execution_count": 45,
   "id": "18367387-f52d-46d9-b75a-116a15dfd250",
   "metadata": {},
   "outputs": [
    {
     "data": {
      "text/html": [
       "<style>#sk-container-id-3 {color: black;background-color: white;}#sk-container-id-3 pre{padding: 0;}#sk-container-id-3 div.sk-toggleable {background-color: white;}#sk-container-id-3 label.sk-toggleable__label {cursor: pointer;display: block;width: 100%;margin-bottom: 0;padding: 0.3em;box-sizing: border-box;text-align: center;}#sk-container-id-3 label.sk-toggleable__label-arrow:before {content: \"▸\";float: left;margin-right: 0.25em;color: #696969;}#sk-container-id-3 label.sk-toggleable__label-arrow:hover:before {color: black;}#sk-container-id-3 div.sk-estimator:hover label.sk-toggleable__label-arrow:before {color: black;}#sk-container-id-3 div.sk-toggleable__content {max-height: 0;max-width: 0;overflow: hidden;text-align: left;background-color: #f0f8ff;}#sk-container-id-3 div.sk-toggleable__content pre {margin: 0.2em;color: black;border-radius: 0.25em;background-color: #f0f8ff;}#sk-container-id-3 input.sk-toggleable__control:checked~div.sk-toggleable__content {max-height: 200px;max-width: 100%;overflow: auto;}#sk-container-id-3 input.sk-toggleable__control:checked~label.sk-toggleable__label-arrow:before {content: \"▾\";}#sk-container-id-3 div.sk-estimator input.sk-toggleable__control:checked~label.sk-toggleable__label {background-color: #d4ebff;}#sk-container-id-3 div.sk-label input.sk-toggleable__control:checked~label.sk-toggleable__label {background-color: #d4ebff;}#sk-container-id-3 input.sk-hidden--visually {border: 0;clip: rect(1px 1px 1px 1px);clip: rect(1px, 1px, 1px, 1px);height: 1px;margin: -1px;overflow: hidden;padding: 0;position: absolute;width: 1px;}#sk-container-id-3 div.sk-estimator {font-family: monospace;background-color: #f0f8ff;border: 1px dotted black;border-radius: 0.25em;box-sizing: border-box;margin-bottom: 0.5em;}#sk-container-id-3 div.sk-estimator:hover {background-color: #d4ebff;}#sk-container-id-3 div.sk-parallel-item::after {content: \"\";width: 100%;border-bottom: 1px solid gray;flex-grow: 1;}#sk-container-id-3 div.sk-label:hover label.sk-toggleable__label {background-color: #d4ebff;}#sk-container-id-3 div.sk-serial::before {content: \"\";position: absolute;border-left: 1px solid gray;box-sizing: border-box;top: 0;bottom: 0;left: 50%;z-index: 0;}#sk-container-id-3 div.sk-serial {display: flex;flex-direction: column;align-items: center;background-color: white;padding-right: 0.2em;padding-left: 0.2em;position: relative;}#sk-container-id-3 div.sk-item {position: relative;z-index: 1;}#sk-container-id-3 div.sk-parallel {display: flex;align-items: stretch;justify-content: center;background-color: white;position: relative;}#sk-container-id-3 div.sk-item::before, #sk-container-id-3 div.sk-parallel-item::before {content: \"\";position: absolute;border-left: 1px solid gray;box-sizing: border-box;top: 0;bottom: 0;left: 50%;z-index: -1;}#sk-container-id-3 div.sk-parallel-item {display: flex;flex-direction: column;z-index: 1;position: relative;background-color: white;}#sk-container-id-3 div.sk-parallel-item:first-child::after {align-self: flex-end;width: 50%;}#sk-container-id-3 div.sk-parallel-item:last-child::after {align-self: flex-start;width: 50%;}#sk-container-id-3 div.sk-parallel-item:only-child::after {width: 0;}#sk-container-id-3 div.sk-dashed-wrapped {border: 1px dashed gray;margin: 0 0.4em 0.5em 0.4em;box-sizing: border-box;padding-bottom: 0.4em;background-color: white;}#sk-container-id-3 div.sk-label label {font-family: monospace;font-weight: bold;display: inline-block;line-height: 1.2em;}#sk-container-id-3 div.sk-label-container {text-align: center;}#sk-container-id-3 div.sk-container {/* jupyter's `normalize.less` sets `[hidden] { display: none; }` but bootstrap.min.css set `[hidden] { display: none !important; }` so we also need the `!important` here to be able to override the default hidden behavior on the sphinx rendered scikit-learn.org. See: https://github.com/scikit-learn/scikit-learn/issues/21755 */display: inline-block !important;position: relative;}#sk-container-id-3 div.sk-text-repr-fallback {display: none;}</style><div id=\"sk-container-id-3\" class=\"sk-top-container\"><div class=\"sk-text-repr-fallback\"><pre>DictVectorizer(sparse=False)</pre><b>In a Jupyter environment, please rerun this cell to show the HTML representation or trust the notebook. <br />On GitHub, the HTML representation is unable to render, please try loading this page with nbviewer.org.</b></div><div class=\"sk-container\" hidden><div class=\"sk-item\"><div class=\"sk-estimator sk-toggleable\"><input class=\"sk-toggleable__control sk-hidden--visually\" id=\"sk-estimator-id-3\" type=\"checkbox\" checked><label for=\"sk-estimator-id-3\" class=\"sk-toggleable__label sk-toggleable__label-arrow\">DictVectorizer</label><div class=\"sk-toggleable__content\"><pre>DictVectorizer(sparse=False)</pre></div></div></div></div></div>"
      ],
      "text/plain": [
       "DictVectorizer(sparse=False)"
      ]
     },
     "execution_count": 45,
     "metadata": {},
     "output_type": "execute_result"
    }
   ],
   "source": [
    "#Encoding with DictVectorizer\n",
    "train_dict_smt = df_train_smt.to_dict(orient='records')\n",
    "dv = DictVectorizer(sparse=False)\n",
    "dv.fit(train_dict)"
   ]
  },
  {
   "cell_type": "code",
   "execution_count": 46,
   "id": "5b25e442-a915-4cb0-ae09-178df7f723a0",
   "metadata": {},
   "outputs": [
    {
     "data": {
      "text/plain": [
       "(530210, 34)"
      ]
     },
     "execution_count": 46,
     "metadata": {},
     "output_type": "execute_result"
    }
   ],
   "source": [
    "#Prepare feature matrix for model training\n",
    "X_train_smt = dv.transform(train_dict_smt)\n",
    "X_train_smt.shape"
   ]
  },
  {
   "cell_type": "code",
   "execution_count": 47,
   "id": "926751ba-fcdb-40d9-9d9a-3dd1dc6f26de",
   "metadata": {},
   "outputs": [
    {
     "data": {
      "text/html": [
       "<style>#sk-container-id-4 {color: black;background-color: white;}#sk-container-id-4 pre{padding: 0;}#sk-container-id-4 div.sk-toggleable {background-color: white;}#sk-container-id-4 label.sk-toggleable__label {cursor: pointer;display: block;width: 100%;margin-bottom: 0;padding: 0.3em;box-sizing: border-box;text-align: center;}#sk-container-id-4 label.sk-toggleable__label-arrow:before {content: \"▸\";float: left;margin-right: 0.25em;color: #696969;}#sk-container-id-4 label.sk-toggleable__label-arrow:hover:before {color: black;}#sk-container-id-4 div.sk-estimator:hover label.sk-toggleable__label-arrow:before {color: black;}#sk-container-id-4 div.sk-toggleable__content {max-height: 0;max-width: 0;overflow: hidden;text-align: left;background-color: #f0f8ff;}#sk-container-id-4 div.sk-toggleable__content pre {margin: 0.2em;color: black;border-radius: 0.25em;background-color: #f0f8ff;}#sk-container-id-4 input.sk-toggleable__control:checked~div.sk-toggleable__content {max-height: 200px;max-width: 100%;overflow: auto;}#sk-container-id-4 input.sk-toggleable__control:checked~label.sk-toggleable__label-arrow:before {content: \"▾\";}#sk-container-id-4 div.sk-estimator input.sk-toggleable__control:checked~label.sk-toggleable__label {background-color: #d4ebff;}#sk-container-id-4 div.sk-label input.sk-toggleable__control:checked~label.sk-toggleable__label {background-color: #d4ebff;}#sk-container-id-4 input.sk-hidden--visually {border: 0;clip: rect(1px 1px 1px 1px);clip: rect(1px, 1px, 1px, 1px);height: 1px;margin: -1px;overflow: hidden;padding: 0;position: absolute;width: 1px;}#sk-container-id-4 div.sk-estimator {font-family: monospace;background-color: #f0f8ff;border: 1px dotted black;border-radius: 0.25em;box-sizing: border-box;margin-bottom: 0.5em;}#sk-container-id-4 div.sk-estimator:hover {background-color: #d4ebff;}#sk-container-id-4 div.sk-parallel-item::after {content: \"\";width: 100%;border-bottom: 1px solid gray;flex-grow: 1;}#sk-container-id-4 div.sk-label:hover label.sk-toggleable__label {background-color: #d4ebff;}#sk-container-id-4 div.sk-serial::before {content: \"\";position: absolute;border-left: 1px solid gray;box-sizing: border-box;top: 0;bottom: 0;left: 50%;z-index: 0;}#sk-container-id-4 div.sk-serial {display: flex;flex-direction: column;align-items: center;background-color: white;padding-right: 0.2em;padding-left: 0.2em;position: relative;}#sk-container-id-4 div.sk-item {position: relative;z-index: 1;}#sk-container-id-4 div.sk-parallel {display: flex;align-items: stretch;justify-content: center;background-color: white;position: relative;}#sk-container-id-4 div.sk-item::before, #sk-container-id-4 div.sk-parallel-item::before {content: \"\";position: absolute;border-left: 1px solid gray;box-sizing: border-box;top: 0;bottom: 0;left: 50%;z-index: -1;}#sk-container-id-4 div.sk-parallel-item {display: flex;flex-direction: column;z-index: 1;position: relative;background-color: white;}#sk-container-id-4 div.sk-parallel-item:first-child::after {align-self: flex-end;width: 50%;}#sk-container-id-4 div.sk-parallel-item:last-child::after {align-self: flex-start;width: 50%;}#sk-container-id-4 div.sk-parallel-item:only-child::after {width: 0;}#sk-container-id-4 div.sk-dashed-wrapped {border: 1px dashed gray;margin: 0 0.4em 0.5em 0.4em;box-sizing: border-box;padding-bottom: 0.4em;background-color: white;}#sk-container-id-4 div.sk-label label {font-family: monospace;font-weight: bold;display: inline-block;line-height: 1.2em;}#sk-container-id-4 div.sk-label-container {text-align: center;}#sk-container-id-4 div.sk-container {/* jupyter's `normalize.less` sets `[hidden] { display: none; }` but bootstrap.min.css set `[hidden] { display: none !important; }` so we also need the `!important` here to be able to override the default hidden behavior on the sphinx rendered scikit-learn.org. See: https://github.com/scikit-learn/scikit-learn/issues/21755 */display: inline-block !important;position: relative;}#sk-container-id-4 div.sk-text-repr-fallback {display: none;}</style><div id=\"sk-container-id-4\" class=\"sk-top-container\"><div class=\"sk-text-repr-fallback\"><pre>LogisticRegression(random_state=1, solver=&#x27;liblinear&#x27;)</pre><b>In a Jupyter environment, please rerun this cell to show the HTML representation or trust the notebook. <br />On GitHub, the HTML representation is unable to render, please try loading this page with nbviewer.org.</b></div><div class=\"sk-container\" hidden><div class=\"sk-item\"><div class=\"sk-estimator sk-toggleable\"><input class=\"sk-toggleable__control sk-hidden--visually\" id=\"sk-estimator-id-4\" type=\"checkbox\" checked><label for=\"sk-estimator-id-4\" class=\"sk-toggleable__label sk-toggleable__label-arrow\">LogisticRegression</label><div class=\"sk-toggleable__content\"><pre>LogisticRegression(random_state=1, solver=&#x27;liblinear&#x27;)</pre></div></div></div></div></div>"
      ],
      "text/plain": [
       "LogisticRegression(random_state=1, solver='liblinear')"
      ]
     },
     "execution_count": 47,
     "metadata": {},
     "output_type": "execute_result"
    }
   ],
   "source": [
    "#Train the model\n",
    "model_smt = LogisticRegression(solver='liblinear', random_state=1)\n",
    "model_smt.fit(X_train_smt, y_train_smt)"
   ]
  },
  {
   "cell_type": "code",
   "execution_count": 48,
   "id": "3234c7df-3060-4e07-9666-d9a58ad331a8",
   "metadata": {},
   "outputs": [],
   "source": [
    "#Model validation\n",
    "y_pred_smt = model_smt.predict_proba(X_val)[:, 1]"
   ]
  },
  {
   "cell_type": "code",
   "execution_count": 49,
   "id": "309eb74d-3da5-4586-9afd-fd44476c3cae",
   "metadata": {},
   "outputs": [
    {
     "name": "stdout",
     "output_type": "stream",
     "text": [
      "Accuracy: 0.8493256859401643\n"
     ]
    }
   ],
   "source": [
    "#Accuracy\n",
    "print(\"Accuracy:\", accuracy_score(y_val, y_pred_smt>0.5))"
   ]
  },
  {
   "cell_type": "code",
   "execution_count": 50,
   "id": "7b07994e-68f9-4c37-80ad-6e669eb5ec67",
   "metadata": {},
   "outputs": [
    {
     "name": "stdout",
     "output_type": "stream",
     "text": [
      "Precision: 0.3238813826987191\n"
     ]
    }
   ],
   "source": [
    "#Precision\n",
    "print(\"Precision:\", precision_score(y_val, y_pred_smt>0.5))"
   ]
  },
  {
   "cell_type": "code",
   "execution_count": 51,
   "id": "0451d682-84d8-4f7d-ac72-58494b9947d3",
   "metadata": {},
   "outputs": [
    {
     "name": "stdout",
     "output_type": "stream",
     "text": [
      "Recall: 0.8133427337622279\n"
     ]
    }
   ],
   "source": [
    "#Recall\n",
    "print(\"Recall:\", recall_score(y_val, y_pred_smt>0.5))"
   ]
  },
  {
   "cell_type": "code",
   "execution_count": 52,
   "id": "d6abef5d-44c6-4973-a619-851eac9a1c8e",
   "metadata": {},
   "outputs": [
    {
     "name": "stdout",
     "output_type": "stream",
     "text": [
      "AUC Score: 0.8532505500977038\n"
     ]
    }
   ],
   "source": [
    "#AUC Score\n",
    "print(\"AUC Score:\", roc_auc_score(y_val, y_pred_smt))"
   ]
  },
  {
   "cell_type": "code",
   "execution_count": 53,
   "id": "2e8e6d18-463e-4bad-9b84-852ed922b1e9",
   "metadata": {},
   "outputs": [
    {
     "data": {
      "text/plain": [
       "<matplotlib.legend.Legend at 0x7f57ee069f30>"
      ]
     },
     "execution_count": 53,
     "metadata": {},
     "output_type": "execute_result"
    },
    {
     "data": {
      "image/png": "[encoded data removed]",
      "text/plain": [
       "<Figure size 700x500 with 1 Axes>"
      ]
     },
     "metadata": {},
     "output_type": "display_data"
    }
   ],
   "source": [
    "#ROC curve\n",
    "fpr, tpr, thresholds = roc_curve(y_val, y_pred_smt)\n",
    "\n",
    "plt.figure(figsize=(7, 5))\n",
    "\n",
    "plt.plot(fpr, tpr, label='Logistic Regression Model with SMOTE oversampling')\n",
    "plt.plot([0, 1], [0, 1], label='Random', linestyle='--')\n",
    "\n",
    "plt.xlabel('FPR')\n",
    "plt.ylabel('TPR')\n",
    "\n",
    "plt.legend()"
   ]
  },
  {
   "cell_type": "code",
   "execution_count": 54,
   "id": "adc0001f-2672-4719-9d8e-0583d77afdc8",
   "metadata": {},
   "outputs": [
    {
     "name": "stdout",
     "output_type": "stream",
     "text": [
      "Average Precision Score: 0.3885016963633938\n"
     ]
    }
   ],
   "source": [
    "#Average Precision Score\n",
    "print(\"Average Precision Score:\", average_precision_score(y_val, y_pred_smt))"
   ]
  },
  {
   "cell_type": "code",
   "execution_count": 55,
   "id": "dfbd7250-8792-4c59-814b-0714f5d766b8",
   "metadata": {},
   "outputs": [
    {
     "data": {
      "application/vnd.jupyter.widget-view+json": {
       "model_id": "58e6ab6e4b414c66932fc6f6f202c269",
       "version_major": 2,
       "version_minor": 0
      },
      "text/plain": [
       "  0%|          | 0/7 [00:00<?, ?it/s]"
      ]
     },
     "metadata": {},
     "output_type": "display_data"
    },
    {
     "name": "stdout",
     "output_type": "stream",
     "text": [
      "C=0.001, Mean ROC AUC: 0.841 +- 0.002\n",
      "C=0.001, Mean Average Precision Score: 0.360 +- 0.006\n",
      "C=0.01, Mean ROC AUC: 0.848 +- 0.002\n",
      "C=0.01, Mean Average Precision Score: 0.379 +- 0.005\n",
      "C=0.1, Mean ROC AUC: 0.847 +- 0.002\n",
      "C=0.1, Mean Average Precision Score: 0.379 +- 0.004\n",
      "C=0.5, Mean ROC AUC: 0.847 +- 0.002\n",
      "C=0.5, Mean Average Precision Score: 0.379 +- 0.003\n",
      "C=1, Mean ROC AUC: 0.847 +- 0.002\n",
      "C=1, Mean Average Precision Score: 0.379 +- 0.004\n",
      "C=5, Mean ROC AUC: 0.847 +- 0.002\n",
      "C=5, Mean Average Precision Score: 0.379 +- 0.003\n",
      "C=10, Mean ROC AUC: 0.847 +- 0.002\n",
      "C=10, Mean Average Precision Score: 0.379 +- 0.003\n"
     ]
    }
   ],
   "source": [
    "#Validation with StratifiedKFold to account for unbalanced data\n",
    "n_splits = 3\n",
    "\n",
    "df_train_full_cv = df_train_full[numeric_vars+categorical_vars]\n",
    "y_train_full_cv = df_train_full[\"lbw\"].values\n",
    "\n",
    "for C in tqdm([0.001, 0.01, 0.1, 0.5, 1, 5, 10]):\n",
    "    \n",
    "    scores1 = []\n",
    "    scores2 = []\n",
    "    kfold = StratifiedKFold(n_splits=n_splits, shuffle=True, random_state=1)\n",
    "    \n",
    "    for train_idx, val_idx in kfold.split(df_train_full_cv, y_train_full_cv):\n",
    "        df_train_cv = df_train_full_cv.iloc[train_idx]\n",
    "        df_val_cv = df_train_full_cv.iloc[val_idx]\n",
    "\n",
    "        df_train_cv = pd.get_dummies(df_train_cv)\n",
    "        df_val_cv = pd.get_dummies(df_val_cv)        \n",
    "              \n",
    "        y_train_cv = y_train_full_cv[train_idx]\n",
    "        y_val_cv = y_train_full_cv[val_idx]\n",
    "        \n",
    "        smt_cv = SMOTE()\n",
    "        df_train_cv_smt, y_train_cv_smt = smt_cv.fit_resample(df_train_cv, y_train_cv)\n",
    "\n",
    "        dv_cv_smt, model_cv_smt = train(df_train_cv_smt, y_train_cv_smt, C)\n",
    "        y_pred_cv_smt = predict(df_val_cv, dv_cv_smt, model_cv_smt)\n",
    "\n",
    "        auc_roc = roc_auc_score(y_val_cv, y_pred_cv_smt)\n",
    "        aps = average_precision_score(y_val_cv, y_pred_cv_smt)\n",
    "        scores1.append(auc_roc)\n",
    "        scores2.append(aps)\n",
    "\n",
    "    print('C=%s, Mean ROC AUC: %.3f +- %.3f' % (C, np.mean(scores1), np.std(scores1)))\n",
    "    print('C=%s, Mean Average Precision Score: %.3f +- %.3f' % (C, np.mean(scores2), \n",
    "                                                             np.std(scores2)))"
   ]
  },
  {
   "cell_type": "markdown",
   "id": "d3e192eb-6858-4e08-b01b-0c8c94687002",
   "metadata": {},
   "source": [
    "### Random Forest Model"
   ]
  },
  {
   "cell_type": "code",
   "execution_count": 56,
   "id": "45922de0-2aca-413c-a3ac-216d71ea4576",
   "metadata": {},
   "outputs": [],
   "source": [
    "#Random Forest Parameter Tuning\n",
    "\n",
    "scores = []\n",
    "\n",
    "for d in [1, 5, 10, 15]:\n",
    "    for n in range(10, 101, 10):\n",
    "        rf = RandomForestClassifier(n_estimators=n,\n",
    "                                    max_depth=d,\n",
    "                                    random_state=1)\n",
    "        rf.fit(X_train, y_train)\n",
    "\n",
    "        y_pred_rf = rf.predict_proba(X_val)[:, 1]\n",
    "        auc = roc_auc_score(y_val, y_pred_rf)\n",
    "\n",
    "        scores.append((d, n, auc))\n",
    "\n",
    "columns = ['max_depth', 'n_estimators', 'auc']\n",
    "df_scores = pd.DataFrame(scores, columns=columns)"
   ]
  },
  {
   "cell_type": "code",
   "execution_count": 57,
   "id": "759c8556-6090-4d69-9aa3-2e05c80ddf86",
   "metadata": {},
   "outputs": [
    {
     "data": {
      "text/plain": [
       "<matplotlib.legend.Legend at 0x7f57da72aa70>"
      ]
     },
     "execution_count": 57,
     "metadata": {},
     "output_type": "execute_result"
    },
    {
     "data": {
      "image/png": "[encoded data removed]",
      "text/plain": [
       "<Figure size 640x480 with 1 Axes>"
      ]
     },
     "metadata": {},
     "output_type": "display_data"
    }
   ],
   "source": [
    "for d in [1, 5, 10, 15]:\n",
    "    df_subset = df_scores[df_scores.max_depth == d]\n",
    "    \n",
    "    plt.plot(df_subset.n_estimators, df_subset.auc,\n",
    "             label='max_depth=%d' % d)\n",
    "\n",
    "plt.legend()"
   ]
  },
  {
   "cell_type": "code",
   "execution_count": 58,
   "id": "d2aed792-7a83-470d-a9a9-6d71812b256c",
   "metadata": {},
   "outputs": [],
   "source": [
    "#Model with specified parameters \n",
    "rf = RandomForestClassifier(n_estimators=25, max_depth=10, random_state=1)\n",
    "rf.fit(X_train, y_train)\n",
    "\n",
    "y_pred_rf = rf.predict_proba(X_val)[:, 1]        "
   ]
  },
  {
   "cell_type": "code",
   "execution_count": 59,
   "id": "0bd3b2a8",
   "metadata": {},
   "outputs": [
    {
     "name": "stdout",
     "output_type": "stream",
     "text": [
      "Accuracy: 0.9218655317709727\n"
     ]
    }
   ],
   "source": [
    "#Accuracy\n",
    "print(\"Accuracy:\", accuracy_score(y_val, y_pred_rf > 0.5))"
   ]
  },
  {
   "cell_type": "code",
   "execution_count": 60,
   "id": "8d6e7e5b-148f-49f8-a91c-7500037a85ca",
   "metadata": {},
   "outputs": [
    {
     "name": "stdout",
     "output_type": "stream",
     "text": [
      "Precision: 0.9961538461538462\n"
     ]
    }
   ],
   "source": [
    "#Precision\n",
    "print(\"Precision:\", precision_score(y_val, y_pred_rf > 0.5))"
   ]
  },
  {
   "cell_type": "code",
   "execution_count": 61,
   "id": "ed42bd67-6717-48a4-b35f-0b4b70ecab04",
   "metadata": {},
   "outputs": [
    {
     "name": "stdout",
     "output_type": "stream",
     "text": [
      "Recall: 0.02282541640962369\n"
     ]
    }
   ],
   "source": [
    "#Recall\n",
    "print(\"Recall:\", recall_score(y_val, y_pred_rf > 0.5))"
   ]
  },
  {
   "cell_type": "code",
   "execution_count": 62,
   "id": "f806b3e8-9490-4648-87c9-4ed2bf16bb6a",
   "metadata": {},
   "outputs": [
    {
     "name": "stdout",
     "output_type": "stream",
     "text": [
      "AUC Score: 0.8548299274411143\n"
     ]
    }
   ],
   "source": [
    "#AUC Score\n",
    "print(\"AUC Score:\", roc_auc_score(y_val, y_pred_rf))"
   ]
  },
  {
   "cell_type": "code",
   "execution_count": 63,
   "id": "5bf4f4b4-3e53-4174-8ac0-8e3b0b379362",
   "metadata": {},
   "outputs": [
    {
     "data": {
      "text/plain": [
       "<matplotlib.legend.Legend at 0x7f57da6fd570>"
      ]
     },
     "execution_count": 63,
     "metadata": {},
     "output_type": "execute_result"
    },
    {
     "data": {
      "image/png": "[encoded data removed]",
      "text/plain": [
       "<Figure size 700x500 with 1 Axes>"
      ]
     },
     "metadata": {},
     "output_type": "display_data"
    }
   ],
   "source": [
    "#ROC curve\n",
    "fpr, tpr, thresholds = roc_curve(y_val, y_pred_rf)\n",
    "\n",
    "plt.figure(figsize=(7, 5))\n",
    "\n",
    "plt.plot(fpr, tpr, label='Random Forest Model')\n",
    "plt.plot([0, 1], [0, 1], label='Random', linestyle='--')\n",
    "\n",
    "plt.xlabel('FPR')\n",
    "plt.ylabel('TPR')\n",
    "\n",
    "plt.legend()"
   ]
  },
  {
   "cell_type": "code",
   "execution_count": 64,
   "id": "25d32871-bff5-4b80-b521-36fb9db900b7",
   "metadata": {},
   "outputs": [
    {
     "name": "stdout",
     "output_type": "stream",
     "text": [
      "Average Precision Score: 0.4015503343904992\n"
     ]
    }
   ],
   "source": [
    "#Average Precision Score\n",
    "print(\"Average Precision Score:\", average_precision_score(y_val, y_pred_rf))"
   ]
  },
  {
   "cell_type": "markdown",
   "id": "dcca353c-e9ac-47e9-99bf-cf646099b447",
   "metadata": {},
   "source": [
    "#### Cross-validation"
   ]
  },
  {
   "cell_type": "code",
   "execution_count": 65,
   "id": "045aecbb-42a0-4433-8f50-1a3594fdbf45",
   "metadata": {},
   "outputs": [],
   "source": [
    "def train_rf(df_train, y_train):\n",
    "    dicts = df_train.to_dict(orient='records')\n",
    "\n",
    "    dv = DictVectorizer(sparse=False)\n",
    "    X_train = dv.fit_transform(dicts)\n",
    "    \n",
    "    rf = RandomForestClassifier(n_estimators=25, max_depth=10, random_state=1)\n",
    "    rf.fit(X_train, y_train)\n",
    "\n",
    "    return dv, rf"
   ]
  },
  {
   "cell_type": "code",
   "execution_count": 66,
   "id": "7132062d-8c47-4ccd-8944-2d2ac2c6e0cb",
   "metadata": {},
   "outputs": [],
   "source": [
    "def predict_rf(df, dv, rf):\n",
    "    dicts = df.to_dict(orient='records')\n",
    "\n",
    "    X = dv.transform(dicts)\n",
    "    y_pred = rf.predict_proba(X)[:, 1]\n",
    "\n",
    "    return y_pred"
   ]
  },
  {
   "cell_type": "code",
   "execution_count": 67,
   "id": "5df4e9ac-8f2a-4969-ab4d-f8f6fbee5542",
   "metadata": {},
   "outputs": [
    {
     "name": "stdout",
     "output_type": "stream",
     "text": [
      "Mean ROC AUC: 0.857 +- 0.003\n",
      "Mean Average Precision Score: 0.402 +- 0.007\n"
     ]
    }
   ],
   "source": [
    "scores1 = []\n",
    "scores2 = []\n",
    "n_splits = 3\n",
    "kfold = StratifiedKFold(n_splits=n_splits, shuffle=True, random_state=1)\n",
    "\n",
    "for train_idx, val_idx in kfold.split(df_train_full_cv, y_train_full_cv):\n",
    "    df_train_cv = df_train_full_cv.iloc[train_idx]\n",
    "    df_val_cv = df_train_full_cv.iloc[val_idx]\n",
    "\n",
    "    df_train_cv_rf = pd.get_dummies(df_train_cv)\n",
    "    df_val_cv_rf = pd.get_dummies(df_val_cv)        \n",
    "              \n",
    "    y_train_cv_rf = y_train_full_cv[train_idx]\n",
    "    y_val_cv_rf = y_train_full_cv[val_idx]        \n",
    "    \n",
    "    dv_cv_rf, model_cv_rf = train_rf(df_train_cv_rf, y_train_cv_rf)\n",
    "    y_pred_cv_rf = predict_rf(df_val_cv_rf, dv_cv_rf, model_cv_rf)\n",
    "\n",
    "    auc_roc = roc_auc_score(y_val_cv_rf, y_pred_cv_rf)\n",
    "    aps = average_precision_score(y_val_cv_rf, y_pred_cv_rf)\n",
    "    scores1.append(auc_roc)\n",
    "    scores2.append(aps)\n",
    "\n",
    "print('Mean ROC AUC: %.3f +- %.3f' % (np.mean(scores1), np.std(scores1)))\n",
    "print('Mean Average Precision Score: %.3f +- %.3f' % (np.mean(scores2), \n",
    "                                                             np.std(scores2)))"
   ]
  },
  {
   "cell_type": "markdown",
   "id": "ca3fb704-5762-44b8-b56d-a889b6d6c934",
   "metadata": {},
   "source": [
    "#### SMOTE for class imbalance"
   ]
  },
  {
   "cell_type": "code",
   "execution_count": 87,
   "id": "9237ae6d-429a-4cca-9100-94b12c4808b1",
   "metadata": {},
   "outputs": [],
   "source": [
    "#Model with specified parameters\n",
    "rf_smt = RandomForestClassifier(n_estimators=25, max_depth=10, random_state=1)\n",
    "rf_smt.fit(X_train_smt, y_train_smt)\n",
    "\n",
    "y_pred_rf_smt = rf_smt.predict_proba(X_val)[:, 1]"
   ]
  },
  {
   "cell_type": "code",
   "execution_count": 88,
   "id": "c09304b1-153d-4cd9-ad21-53ae0fab0841",
   "metadata": {},
   "outputs": [
    {
     "name": "stdout",
     "output_type": "stream",
     "text": [
      "Accuracy: 0.8494807006665633\n"
     ]
    }
   ],
   "source": [
    "#Accuracy\n",
    "print(\"Accuracy:\", accuracy_score(y_val, y_pred_rf_smt > 0.5))"
   ]
  },
  {
   "cell_type": "code",
   "execution_count": 89,
   "id": "40fed22c-cc8e-464e-84f4-fc05ec5b59b3",
   "metadata": {},
   "outputs": [
    {
     "name": "stdout",
     "output_type": "stream",
     "text": [
      "Precision: 0.32405748216858155\n"
     ]
    }
   ],
   "source": [
    "#Precision\n",
    "print(\"Precision:\", precision_score(y_val, y_pred_rf_smt > 0.5))"
   ]
  },
  {
   "cell_type": "code",
   "execution_count": 90,
   "id": "078e3f4b-a0c8-4888-bca2-7bfaf72632de",
   "metadata": {},
   "outputs": [
    {
     "name": "stdout",
     "output_type": "stream",
     "text": [
      "Recall: 0.8128139596369084\n"
     ]
    }
   ],
   "source": [
    "#Recall\n",
    "print(\"Recall:\", recall_score(y_val, y_pred_rf_smt > 0.5))"
   ]
  },
  {
   "cell_type": "code",
   "execution_count": 91,
   "id": "639709f3-f2c4-4eb7-9fd2-07cdbacaa934",
   "metadata": {},
   "outputs": [
    {
     "name": "stdout",
     "output_type": "stream",
     "text": [
      "AUC Score: 0.8511108884966082\n"
     ]
    }
   ],
   "source": [
    "#AUC Score\n",
    "print(\"AUC Score:\", roc_auc_score(y_val, y_pred_rf_smt))"
   ]
  },
  {
   "cell_type": "code",
   "execution_count": 92,
   "id": "6cb60f21-baad-4e3b-b961-0eeee05458dc",
   "metadata": {},
   "outputs": [
    {
     "data": {
      "text/plain": [
       "<matplotlib.legend.Legend at 0x7f58122668f0>"
      ]
     },
     "execution_count": 92,
     "metadata": {},
     "output_type": "execute_result"
    },
    {
     "data": {
      "image/png": "[encoded data removed]",
      "text/plain": [
       "<Figure size 700x500 with 1 Axes>"
      ]
     },
     "metadata": {},
     "output_type": "display_data"
    }
   ],
   "source": [
    "#ROC curve\n",
    "fpr, tpr, thresholds = roc_curve(y_val, y_pred_rf_smt)\n",
    "\n",
    "plt.figure(figsize=(7, 5))\n",
    "\n",
    "plt.plot(fpr, tpr, label='Random Forest Model')\n",
    "plt.plot([0, 1], [0, 1], label='Random', linestyle='--')\n",
    "\n",
    "plt.xlabel('FPR')\n",
    "plt.ylabel('TPR')\n",
    "\n",
    "plt.legend()"
   ]
  },
  {
   "cell_type": "code",
   "execution_count": 93,
   "id": "cef814ab-5dd1-4105-bfbf-50d731faacfe",
   "metadata": {},
   "outputs": [
    {
     "name": "stdout",
     "output_type": "stream",
     "text": [
      "Average Precision Score: 0.3718757928700471\n"
     ]
    }
   ],
   "source": [
    "#Average Precision Score\n",
    "print(\"Average Precision Score:\", average_precision_score(y_val, y_pred_rf_smt))"
   ]
  },
  {
   "cell_type": "code",
   "execution_count": 94,
   "id": "f77947ac-36ef-4c26-b363-0533a775c851",
   "metadata": {},
   "outputs": [
    {
     "name": "stdout",
     "output_type": "stream",
     "text": [
      "Mean ROC AUC: 0.852 +- 0.002\n",
      "Mean Average Precision Score: 0.348 +- 0.003\n"
     ]
    }
   ],
   "source": [
    "scores1 = []\n",
    "scores2 = []\n",
    "n_splits = 3\n",
    "kfold = StratifiedKFold(n_splits=n_splits, shuffle=True, random_state=1)\n",
    "\n",
    "for train_idx, val_idx in kfold.split(df_train_full_cv, y_train_full_cv):\n",
    "    df_train_cv = df_train_full_cv.iloc[train_idx]\n",
    "    df_val_cv = df_train_full_cv.iloc[val_idx]\n",
    "\n",
    "    df_train_cv_rf = pd.get_dummies(df_train_cv)\n",
    "    df_val_cv_rf = pd.get_dummies(df_val_cv)        \n",
    "              \n",
    "    y_train_cv_rf = y_train_full_cv[train_idx]\n",
    "    y_val_cv_rf = y_train_full_cv[val_idx]\n",
    "    \n",
    "    smt_cv_rf = SMOTE()\n",
    "    df_train_cv_rf_smt, y_train_cv_rf_smt = smt_cv_rf.fit_resample(df_train_cv_rf, y_train_cv_rf)\n",
    "    \n",
    "    dv_cv_rf_smt, model_cv_rf_smt = train_rf(df_train_cv_rf_smt, y_train_cv_rf_smt)\n",
    "    y_pred_cv_rf_smt = predict_rf(df_val_cv_rf, dv_cv_rf_smt, model_cv_rf_smt)\n",
    "\n",
    "    auc_roc = roc_auc_score(y_val_cv_rf, y_pred_cv_rf_smt)\n",
    "    aps = average_precision_score(y_val_cv_rf, y_pred_cv_rf_smt)\n",
    "    \n",
    "    scores1.append(auc_roc)\n",
    "    scores2.append(aps)\n",
    "\n",
    "print('Mean ROC AUC: %.3f +- %.3f' % (np.mean(scores1), np.std(scores1)))\n",
    "print('Mean Average Precision Score: %.3f +- %.3f' % (np.mean(scores2), \n",
    "                                                             np.std(scores2)))"
   ]
  },
  {
   "cell_type": "markdown",
   "id": "7894883d-cb1d-4b2c-8e1f-b1a93222300f",
   "metadata": {},
   "source": [
    "### XGBoost"
   ]
  },
  {
   "cell_type": "code",
   "execution_count": 96,
   "id": "f2f6e200-8e3f-4dfb-ab85-fbf486bfecc7",
   "metadata": {},
   "outputs": [],
   "source": [
    "#Divide in train, validation and test sets\n",
    "#Stratified sampling will be using to account for imbalanced nature of the data\n",
    "df_train_full, df_test = train_test_split(births_df, test_size=0.2, random_state=1, \n",
    "                                          stratify=births_df.lbw)\n",
    "df_train, df_val = train_test_split(df_train_full, test_size=0.33, random_state=11, \n",
    "                                    stratify=df_train_full.lbw)\n",
    "\n",
    "#Reset index\n",
    "df_train.reset_index(drop=True, inplace=True) \n",
    "df_val.reset_index(drop=True, inplace=True) \n",
    "df_test.reset_index(drop=True, inplace=True)\n",
    "\n",
    "#Calculate y_train, y_val and y_test variable for all sets\n",
    "y_train = df_train.lbw.values\n",
    "y_val = df_val.lbw.values\n",
    "y_test = df_test.lbw.values\n",
    "\n",
    "df_train.drop(\"peso_nac\", axis=1, inplace=True)\n",
    "df_val.drop(\"peso_nac\", axis=1, inplace=True)\n",
    "df_test.drop(\"peso_nac\", axis=1, inplace=True)\n",
    "df_train.drop(\"lbw\", axis=1, inplace=True)\n",
    "df_val.drop(\"lbw\", axis=1, inplace=True)\n",
    "df_test.drop(\"lbw\", axis=1, inplace=True)"
   ]
  },
  {
   "cell_type": "code",
   "execution_count": 97,
   "id": "ee78e99b-42a1-4ef1-8962-165da601ba4e",
   "metadata": {},
   "outputs": [],
   "source": [
    "#Prepare for XGBoost model training\n",
    "train_dict = df_train.to_dict(orient='records')\n",
    "dv = DictVectorizer(sparse=False)\n",
    "dv.fit(train_dict)\n",
    "X_train = dv.transform(train_dict)\n",
    "features = dv.get_feature_names_out()\n",
    "dtrain_xgb = xgb.DMatrix(X_train, label=y_train, feature_names=features)\n",
    "dval_xgb = xgb.DMatrix(X_val, label=y_val, feature_names=features)"
   ]
  },
  {
   "cell_type": "code",
   "execution_count": 98,
   "id": "28942492-6488-4e7f-b69c-316944888e54",
   "metadata": {},
   "outputs": [],
   "source": [
    "xgb_params = {\"eta\":0.3,\"max_depth\":6,\"min_child_weight\":1, \"objective\":\"binary:logistic\",\n",
    "    \"eval_metric\":\"auc\", \"nthread\":8, \"seed\": 1, \"verbosity\": 1}\n",
    "\n",
    "model_xgb= xgb.train(xgb_params, dtrain_xgb, num_boost_round=200)"
   ]
  },
  {
   "cell_type": "code",
   "execution_count": 99,
   "id": "08c72355-422b-4262-b975-0c187b435cd8",
   "metadata": {},
   "outputs": [],
   "source": [
    "y_pred_xgb = model_xgb.predict(dval_xgb)"
   ]
  },
  {
   "cell_type": "code",
   "execution_count": 100,
   "id": "efb8f9d9-5bb9-4009-b893-091de20464ce",
   "metadata": {},
   "outputs": [
    {
     "name": "stdout",
     "output_type": "stream",
     "text": [
      "Accuracy: 0.9220487309930807\n"
     ]
    }
   ],
   "source": [
    "#Accuracy\n",
    "print(\"Accuracy:\", accuracy_score(y_val, y_pred_xgb>0.5))"
   ]
  },
  {
   "cell_type": "code",
   "execution_count": 101,
   "id": "3d5894e4-8c97-4b7b-8934-9c34469ffe8e",
   "metadata": {},
   "outputs": [
    {
     "name": "stdout",
     "output_type": "stream",
     "text": [
      "Precision: 0.5982019363762102\n"
     ]
    }
   ],
   "source": [
    "#Precision\n",
    "print(\"Precision:\", precision_score(y_val, y_pred_xgb>0.5))"
   ]
  },
  {
   "cell_type": "code",
   "execution_count": 102,
   "id": "678650c7-7d6c-49f1-af17-5d0d9c6e028f",
   "metadata": {},
   "outputs": [
    {
     "name": "stdout",
     "output_type": "stream",
     "text": [
      "Recall: 0.07623160306688993\n"
     ]
    }
   ],
   "source": [
    "#Recall\n",
    "print(\"Recall:\", recall_score(y_val, y_pred_xgb>0.5))"
   ]
  },
  {
   "cell_type": "code",
   "execution_count": 103,
   "id": "afd65703-8bc3-4016-9cb7-a5157c0f3bd0",
   "metadata": {},
   "outputs": [
    {
     "name": "stdout",
     "output_type": "stream",
     "text": [
      "AUC Score: 0.8545638621643216\n"
     ]
    }
   ],
   "source": [
    "#AUC ROC Curve\n",
    "print(\"AUC Score:\", roc_auc_score(y_val, y_pred_xgb))"
   ]
  },
  {
   "cell_type": "code",
   "execution_count": 104,
   "id": "ec5fb4e1-2d02-426c-825e-cb7a098cf0fe",
   "metadata": {},
   "outputs": [
    {
     "name": "stdout",
     "output_type": "stream",
     "text": [
      "Average Precision Score: 0.397856767356813\n"
     ]
    }
   ],
   "source": [
    "#Average Precision Score\n",
    "print(\"Average Precision Score:\", average_precision_score(y_val, y_pred_xgb))"
   ]
  },
  {
   "cell_type": "markdown",
   "id": "7e9bd79c-3646-4119-9aea-dad661325cb7",
   "metadata": {},
   "source": [
    "## The Best Model"
   ]
  },
  {
   "cell_type": "code",
   "execution_count": 105,
   "id": "ae8fd61f-26f3-4662-a420-8e5631efd2ab",
   "metadata": {},
   "outputs": [],
   "source": [
    "#Divide in train, validation and test sets\n",
    "#Stratified sampling will be using to account for imbalanced nature of the data\n",
    "df_train_full, df_test = train_test_split(births_df, test_size=0.2, random_state=1, \n",
    "                                          stratify=births_df.lbw)\n",
    "\n",
    "#Reset index\n",
    "df_train_full.reset_index(drop=True, inplace=True) \n",
    "df_test.reset_index(drop=True, inplace=True)\n",
    "\n",
    "#Calculate y_train, y_val and y_test variable for all sets\n",
    "y_train = df_train_full.lbw.values\n",
    "y_test = df_test.lbw.values\n",
    "\n",
    "df_train_full.drop(\"peso_nac\", axis=1, inplace=True)\n",
    "df_test.drop(\"peso_nac\", axis=1, inplace=True)\n",
    "df_train_full.drop(\"lbw\", axis=1, inplace=True)\n",
    "df_test.drop(\"lbw\", axis=1, inplace=True)"
   ]
  },
  {
   "cell_type": "code",
   "execution_count": 106,
   "id": "c3988822-435b-487c-a04e-a957cfda915a",
   "metadata": {},
   "outputs": [
    {
     "data": {
      "text/html": [
       "<style>#sk-container-id-6 {color: black;background-color: white;}#sk-container-id-6 pre{padding: 0;}#sk-container-id-6 div.sk-toggleable {background-color: white;}#sk-container-id-6 label.sk-toggleable__label {cursor: pointer;display: block;width: 100%;margin-bottom: 0;padding: 0.3em;box-sizing: border-box;text-align: center;}#sk-container-id-6 label.sk-toggleable__label-arrow:before {content: \"▸\";float: left;margin-right: 0.25em;color: #696969;}#sk-container-id-6 label.sk-toggleable__label-arrow:hover:before {color: black;}#sk-container-id-6 div.sk-estimator:hover label.sk-toggleable__label-arrow:before {color: black;}#sk-container-id-6 div.sk-toggleable__content {max-height: 0;max-width: 0;overflow: hidden;text-align: left;background-color: #f0f8ff;}#sk-container-id-6 div.sk-toggleable__content pre {margin: 0.2em;color: black;border-radius: 0.25em;background-color: #f0f8ff;}#sk-container-id-6 input.sk-toggleable__control:checked~div.sk-toggleable__content {max-height: 200px;max-width: 100%;overflow: auto;}#sk-container-id-6 input.sk-toggleable__control:checked~label.sk-toggleable__label-arrow:before {content: \"▾\";}#sk-container-id-6 div.sk-estimator input.sk-toggleable__control:checked~label.sk-toggleable__label {background-color: #d4ebff;}#sk-container-id-6 div.sk-label input.sk-toggleable__control:checked~label.sk-toggleable__label {background-color: #d4ebff;}#sk-container-id-6 input.sk-hidden--visually {border: 0;clip: rect(1px 1px 1px 1px);clip: rect(1px, 1px, 1px, 1px);height: 1px;margin: -1px;overflow: hidden;padding: 0;position: absolute;width: 1px;}#sk-container-id-6 div.sk-estimator {font-family: monospace;background-color: #f0f8ff;border: 1px dotted black;border-radius: 0.25em;box-sizing: border-box;margin-bottom: 0.5em;}#sk-container-id-6 div.sk-estimator:hover {background-color: #d4ebff;}#sk-container-id-6 div.sk-parallel-item::after {content: \"\";width: 100%;border-bottom: 1px solid gray;flex-grow: 1;}#sk-container-id-6 div.sk-label:hover label.sk-toggleable__label {background-color: #d4ebff;}#sk-container-id-6 div.sk-serial::before {content: \"\";position: absolute;border-left: 1px solid gray;box-sizing: border-box;top: 0;bottom: 0;left: 50%;z-index: 0;}#sk-container-id-6 div.sk-serial {display: flex;flex-direction: column;align-items: center;background-color: white;padding-right: 0.2em;padding-left: 0.2em;position: relative;}#sk-container-id-6 div.sk-item {position: relative;z-index: 1;}#sk-container-id-6 div.sk-parallel {display: flex;align-items: stretch;justify-content: center;background-color: white;position: relative;}#sk-container-id-6 div.sk-item::before, #sk-container-id-6 div.sk-parallel-item::before {content: \"\";position: absolute;border-left: 1px solid gray;box-sizing: border-box;top: 0;bottom: 0;left: 50%;z-index: -1;}#sk-container-id-6 div.sk-parallel-item {display: flex;flex-direction: column;z-index: 1;position: relative;background-color: white;}#sk-container-id-6 div.sk-parallel-item:first-child::after {align-self: flex-end;width: 50%;}#sk-container-id-6 div.sk-parallel-item:last-child::after {align-self: flex-start;width: 50%;}#sk-container-id-6 div.sk-parallel-item:only-child::after {width: 0;}#sk-container-id-6 div.sk-dashed-wrapped {border: 1px dashed gray;margin: 0 0.4em 0.5em 0.4em;box-sizing: border-box;padding-bottom: 0.4em;background-color: white;}#sk-container-id-6 div.sk-label label {font-family: monospace;font-weight: bold;display: inline-block;line-height: 1.2em;}#sk-container-id-6 div.sk-label-container {text-align: center;}#sk-container-id-6 div.sk-container {/* jupyter's `normalize.less` sets `[hidden] { display: none; }` but bootstrap.min.css set `[hidden] { display: none !important; }` so we also need the `!important` here to be able to override the default hidden behavior on the sphinx rendered scikit-learn.org. See: https://github.com/scikit-learn/scikit-learn/issues/21755 */display: inline-block !important;position: relative;}#sk-container-id-6 div.sk-text-repr-fallback {display: none;}</style><div id=\"sk-container-id-6\" class=\"sk-top-container\"><div class=\"sk-text-repr-fallback\"><pre>RandomForestClassifier(max_depth=10, n_estimators=25, random_state=1)</pre><b>In a Jupyter environment, please rerun this cell to show the HTML representation or trust the notebook. <br />On GitHub, the HTML representation is unable to render, please try loading this page with nbviewer.org.</b></div><div class=\"sk-container\" hidden><div class=\"sk-item\"><div class=\"sk-estimator sk-toggleable\"><input class=\"sk-toggleable__control sk-hidden--visually\" id=\"sk-estimator-id-6\" type=\"checkbox\" checked><label for=\"sk-estimator-id-6\" class=\"sk-toggleable__label sk-toggleable__label-arrow\">RandomForestClassifier</label><div class=\"sk-toggleable__content\"><pre>RandomForestClassifier(max_depth=10, n_estimators=25, random_state=1)</pre></div></div></div></div></div>"
      ],
      "text/plain": [
       "RandomForestClassifier(max_depth=10, n_estimators=25, random_state=1)"
      ]
     },
     "execution_count": 106,
     "metadata": {},
     "output_type": "execute_result"
    }
   ],
   "source": [
    "#Encoding with DictVectorizer\n",
    "train_dict = df_train_full.to_dict(orient='records')\n",
    "dv = DictVectorizer(sparse=False)\n",
    "dv.fit(train_dict)\n",
    "\n",
    "#Prepare feature matrix for model training\n",
    "X_train = dv.transform(train_dict)\n",
    "\n",
    "#Random Forest with parameters identified in jupyter notebook \n",
    "model = RandomForestClassifier(n_estimators=25, max_depth=10, random_state=1)\n",
    "model.fit(X_train, y_train)\n"
   ]
  },
  {
   "cell_type": "code",
   "execution_count": 107,
   "id": "c7f7ac88-48c1-42b2-b10b-9ee15b723f0d",
   "metadata": {},
   "outputs": [
    {
     "name": "stdout",
     "output_type": "stream",
     "text": [
      "AUC Score: 0.8558519294288209\n",
      "Average Precision Score: 0.4052603732685193\n"
     ]
    }
   ],
   "source": [
    "#Model validation\n",
    "test_dict = df_test.to_dict(orient='records')\n",
    "X_test = dv.transform(test_dict)\n",
    "y_pred = model.predict_proba(X_test)[:, 1]\n",
    "\n",
    "#AUC Score\n",
    "print(\"AUC Score:\", roc_auc_score(y_test, y_pred))\n",
    "\n",
    "#Average Precision Score\n",
    "print(\"Average Precision Score:\", average_precision_score(y_test, y_pred))\n"
   ]
  }
 ],
 "metadata": {
  "kernelspec": {
   "display_name": "Python 3 (ipykernel)",
   "language": "python",
   "name": "python3"
  },
  "language_info": {
   "codemirror_mode": {
    "name": "ipython",
    "version": 3
   },
   "file_extension": ".py",
   "mimetype": "text/x-python",
   "name": "python",
   "nbconvert_exporter": "python",
   "pygments_lexer": "ipython3",
   "version": "3.10.6"
  }
 },
 "nbformat": 4,
 "nbformat_minor": 5
}
